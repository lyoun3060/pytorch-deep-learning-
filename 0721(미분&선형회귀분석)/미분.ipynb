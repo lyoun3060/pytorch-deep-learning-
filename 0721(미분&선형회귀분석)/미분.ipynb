{
 "cells": [
  {
   "cell_type": "code",
   "execution_count": 1,
   "metadata": {},
   "outputs": [],
   "source": [
    "import numpy as np\n",
    "\n",
    "def myfunc1(x):\n",
    "    return 3*(x**2)+2*x+1"
   ]
  },
  {
   "cell_type": "code",
   "execution_count": 2,
   "metadata": {},
   "outputs": [
    {
     "name": "stdout",
     "output_type": "stream",
     "text": [
      "25.999999999974932\n"
     ]
    }
   ],
   "source": [
    "#미분 함수(변수가 1개일때)\n",
    "def numerical_derivative(f,x):\n",
    "    delta_x=1e-4 #1e-4 = 1/10000\n",
    "    return (f(x+delta_x)-f(x-delta_x))/(2*delta_x)\n",
    "\n",
    "\n",
    "result=numerical_derivative(myfunc1, 4)\n",
    "print(result)"
   ]
  },
  {
   "cell_type": "code",
   "execution_count": 3,
   "metadata": {},
   "outputs": [],
   "source": [
    "# # 수치 미분 구현\n",
    "def numerical_derivative2(f,x):\n",
    "    delta_x=1e-4\n",
    "    grad=np.zeros_like(x)\n",
    "    print(\"x:\",x)\n",
    "    print(\"grad:\",grad)\n",
    "\n",
    "    it=np.nditer(x, flags=['multi_index'], op_flags=['readwrite'])\n",
    "    \n",
    "    while not it.finished:\n",
    "        idx=it.multi_index\n",
    "        print('idx:',idx, 'x[idx]:', x[idx])\n",
    "        tmp_val=x[idx]\n",
    "        x[idx]=float(tmp_val)+delta_x\n",
    "        fx1=f(x) # f(x+delta_x)\n",
    "\n",
    "        x[idx]=float(tmp_val)-delta_x\n",
    "        fx2=f(x) # f(x-delta_x)\n",
    "        grad[idx]=(fx1-fx2)/(2*delta_x)\n",
    "\n",
    "        print('grad[idx]:', grad[idx])\n",
    "        print('grad:', grad)\n",
    "\n",
    "        x[idx]=tmp_val\n",
    "        it.iternext()\n",
    "\n",
    "    return grad\n",
    "\n"
   ]
  },
  {
   "cell_type": "code",
   "execution_count": 4,
   "metadata": {},
   "outputs": [
    {
     "name": "stdout",
     "output_type": "stream",
     "text": [
      "x: [3. 2.]\n",
      "grad: [0. 0.]\n",
      "idx: (0,) x[idx]: 3.0\n",
      "grad[idx]: 7.999999999999119\n",
      "grad: [8. 0.]\n",
      "idx: (1,) x[idx]: 2.0\n",
      "grad[idx]: 21.000000010040765\n",
      "grad: [ 8.         21.00000001]\n"
     ]
    },
    {
     "data": {
      "text/plain": [
       "<function __main__.numerical_derivative2(f, x)>"
      ]
     },
     "execution_count": 4,
     "metadata": {},
     "output_type": "execute_result"
    }
   ],
   "source": [
    "def func1(input):\n",
    "    x=input[0]\n",
    "    y=input[1]\n",
    "    return(2*x + 3*x*y+ np.power(y,3)) #np.power(y,3) = y**3승\n",
    "\n",
    "numerical_derivative2(func1, np.array([3.0, 2.0]))\n",
    "numerical_derivative2"
   ]
  },
  {
   "cell_type": "code",
   "execution_count": 5,
   "metadata": {},
   "outputs": [],
   "source": [
    "def func2(input):\n",
    "    w=input[0][0]\n",
    "    x= input[0][1]\n",
    "    y= input[1][0]\n",
    "    z= input[1][1]\n",
    "    return (w*x + x*y*z + 3*w + z*np.power(y,2))\n"
   ]
  },
  {
   "cell_type": "code",
   "execution_count": 6,
   "metadata": {},
   "outputs": [
    {
     "name": "stdout",
     "output_type": "stream",
     "text": [
      "x: [[1. 2.]\n",
      " [3. 4.]]\n",
      "grad: [[0. 0.]\n",
      " [0. 0.]]\n",
      "idx: (0, 0) x[idx]: 1.0\n",
      "grad[idx]: 5.000000000023874\n",
      "grad: [[5. 0.]\n",
      " [0. 0.]]\n",
      "idx: (0, 1) x[idx]: 2.0\n",
      "grad[idx]: 13.00000000000523\n",
      "grad: [[ 5. 13.]\n",
      " [ 0.  0.]]\n",
      "idx: (1, 0) x[idx]: 3.0\n",
      "grad[idx]: 32.00000000006753\n",
      "grad: [[ 5. 13.]\n",
      " [32.  0.]]\n",
      "idx: (1, 1) x[idx]: 4.0\n",
      "grad[idx]: 15.000000000000568\n",
      "grad: [[ 5. 13.]\n",
      " [32. 15.]]\n"
     ]
    },
    {
     "data": {
      "text/plain": [
       "array([[ 5., 13.],\n",
       "       [32., 15.]])"
      ]
     },
     "execution_count": 6,
     "metadata": {},
     "output_type": "execute_result"
    }
   ],
   "source": [
    "numerical_derivative2(func2, np.array([[1.0, 2.0], [3.0, 4.0]]))"
   ]
  },
  {
   "cell_type": "code",
   "execution_count": null,
   "metadata": {},
   "outputs": [],
   "source": []
  }
 ],
 "metadata": {
  "kernelspec": {
   "display_name": "base",
   "language": "python",
   "name": "python3"
  },
  "language_info": {
   "codemirror_mode": {
    "name": "ipython",
    "version": 3
   },
   "file_extension": ".py",
   "mimetype": "text/x-python",
   "name": "python",
   "nbconvert_exporter": "python",
   "pygments_lexer": "ipython3",
   "version": "3.10.9"
  },
  "orig_nbformat": 4
 },
 "nbformat": 4,
 "nbformat_minor": 2
}
