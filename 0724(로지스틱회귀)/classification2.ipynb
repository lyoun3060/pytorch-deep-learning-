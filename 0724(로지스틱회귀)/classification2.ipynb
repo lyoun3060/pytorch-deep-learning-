{
 "cells": [
  {
   "cell_type": "code",
   "execution_count": 2,
   "metadata": {},
   "outputs": [
    {
     "name": "stdout",
     "output_type": "stream",
     "text": [
      "Requirement already satisfied: torch in c:\\users\\omega\\anaconda3\\lib\\site-packages (2.0.1)\n",
      "Requirement already satisfied: filelock in c:\\users\\omega\\anaconda3\\lib\\site-packages (from torch) (3.9.0)\n",
      "Requirement already satisfied: typing-extensions in c:\\users\\omega\\anaconda3\\lib\\site-packages (from torch) (4.6.3)\n",
      "Requirement already satisfied: sympy in c:\\users\\omega\\anaconda3\\lib\\site-packages (from torch) (1.11.1)\n",
      "Requirement already satisfied: networkx in c:\\users\\omega\\anaconda3\\lib\\site-packages (from torch) (2.8.4)\n",
      "Requirement already satisfied: jinja2 in c:\\users\\omega\\anaconda3\\lib\\site-packages (from torch) (3.1.2)\n",
      "Requirement already satisfied: MarkupSafe>=2.0 in c:\\users\\omega\\anaconda3\\lib\\site-packages (from jinja2->torch) (2.1.1)\n",
      "Requirement already satisfied: mpmath>=0.19 in c:\\users\\omega\\anaconda3\\lib\\site-packages (from sympy->torch) (1.2.1)\n"
     ]
    }
   ],
   "source": [
    "! pip install torch\n",
    "import torch\n",
    "import torch.nn as nn\n",
    "import torch.nn.functional as F\n",
    "import torch.optim as optim"
   ]
  },
  {
   "cell_type": "code",
   "execution_count": 3,
   "metadata": {},
   "outputs": [
    {
     "name": "stdout",
     "output_type": "stream",
     "text": [
      "torch.Size([6, 2])\n",
      "torch.Size([6, 1])\n"
     ]
    }
   ],
   "source": [
    "torch.manual_seed(1)\n",
    "x_data = [[1,2],[2,3],[3,1],[4,3],[5,3],[6,2]]\n",
    "t_data = [[0],[0],[0],[1],[1],[1]]\n",
    "x_train=torch.FloatTensor(x_data)\n",
    "y_train=torch.FloatTensor(t_data)\n",
    "print(x_train.size())\n",
    "print(y_train.size())"
   ]
  },
  {
   "cell_type": "code",
   "execution_count": 4,
   "metadata": {},
   "outputs": [],
   "source": [
    "W=torch.zeros((2,1), requires_grad=True)\n",
    "b=torch.zeros(1, requires_grad=True)\n",
    "\n",
    "optimizer=optim.SGD([W,b], lr=0.1)\n",
    "nb_epoch=1000\n",
    "costs=[]"
   ]
  },
  {
   "cell_type": "code",
   "execution_count": 5,
   "metadata": {},
   "outputs": [
    {
     "name": "stdout",
     "output_type": "stream",
     "text": [
      "Epoch :  0 \n",
      " Cost :  0.6931471824645996\n",
      "Epoch :  100 \n",
      " Cost :  0.41432666778564453\n",
      "Epoch :  200 \n",
      " Cost :  0.34952056407928467\n",
      "Epoch :  300 \n",
      " Cost :  0.3013016879558563\n",
      "Epoch :  400 \n",
      " Cost :  0.26353219151496887\n",
      "Epoch :  500 \n",
      " Cost :  0.23351816833019257\n",
      "Epoch :  600 \n",
      " Cost :  0.20931296050548553\n",
      "Epoch :  700 \n",
      " Cost :  0.18949568271636963\n",
      "Epoch :  800 \n",
      " Cost :  0.17303510010242462\n",
      "Epoch :  900 \n",
      " Cost :  0.15917940437793732\n"
     ]
    }
   ],
   "source": [
    "for epoch in range(nb_epoch):\n",
    "    y=x_train.matmul(W)+b\n",
    "    h= torch.sigmoid(y)\n",
    "\n",
    "    cost=-(y_train*torch.log(h) + (1-y_train)*torch.log(1-h)).mean()\n",
    "    #실제값이 1일때, -(y_train*torch.log(h)로 구함 = 데이터마다 손실함수 구하는것\n",
    "    #실제값이 0일때, (1-y_train)으로 구함\n",
    "\n",
    "    optimizer.zero_grad()\n",
    "    cost.backward()\n",
    "    optimizer.step()\n",
    "    costs.append(cost.item())\n",
    "\n",
    "    if(epoch%100==0):\n",
    "        print('Epoch : ', epoch, '\\n', 'Cost : ', cost.item())\n"
   ]
  },
  {
   "cell_type": "code",
   "execution_count": 6,
   "metadata": {},
   "outputs": [
    {
     "name": "stdout",
     "output_type": "stream",
     "text": [
      "tensor([[0.0299],\n",
      "        [0.1576],\n",
      "        [0.3006],\n",
      "        [0.7833],\n",
      "        [0.9408],\n",
      "        [0.9806]], grad_fn=<SigmoidBackward0>)\n"
     ]
    }
   ],
   "source": [
    "h2=torch.sigmoid(x_train.matmul(W)+b)\n",
    "print(h2)"
   ]
  },
  {
   "cell_type": "code",
   "execution_count": 7,
   "metadata": {},
   "outputs": [
    {
     "name": "stdout",
     "output_type": "stream",
     "text": [
      "tensor([[False],\n",
      "        [False],\n",
      "        [False],\n",
      "        [ True],\n",
      "        [ True],\n",
      "        [ True]])\n"
     ]
    }
   ],
   "source": [
    "prediction = (h2>=torch.FloatTensor([0.5]))\n",
    "print(prediction)"
   ]
  },
  {
   "cell_type": "code",
   "execution_count": 8,
   "metadata": {},
   "outputs": [
    {
     "name": "stdout",
     "output_type": "stream",
     "text": [
      "tensor([[1.4806],\n",
      "        [0.3245]], requires_grad=True)\n",
      "tensor([-5.6105], requires_grad=True)\n"
     ]
    }
   ],
   "source": [
    "print(W)\n",
    "print(b)"
   ]
  },
  {
   "cell_type": "code",
   "execution_count": 9,
   "metadata": {},
   "outputs": [
    {
     "data": {
      "text/plain": [
       "<Axes: >"
      ]
     },
     "execution_count": 9,
     "metadata": {},
     "output_type": "execute_result"
    },
    {
     "data": {
      "image/png": "[encoded data removed]",
      "text/plain": [
       "<Figure size 640x480 with 1 Axes>"
      ]
     },
     "metadata": {},
     "output_type": "display_data"
    }
   ],
   "source": [
    "import pandas as pd\n",
    "s1=pd.Series(costs)\n",
    "s1.plot()"
   ]
  },
  {
   "cell_type": "code",
   "execution_count": 10,
   "metadata": {},
   "outputs": [
    {
     "data": {
      "text/plain": [
       "tensor([[0.4020],\n",
       "        [0.4147],\n",
       "        [0.6556],\n",
       "        [0.5948],\n",
       "        [0.6788],\n",
       "        [0.8061]], grad_fn=<SigmoidBackward0>)"
      ]
     },
     "execution_count": 10,
     "metadata": {},
     "output_type": "execute_result"
    }
   ],
   "source": [
    "model=nn.Sequential(\n",
    "    nn.Linear(2,1),\n",
    "    nn.Sigmoid()\n",
    ")\n",
    "\n",
    "model(x_train)\n",
    "\n"
   ]
  },
  {
   "cell_type": "code",
   "execution_count": 11,
   "metadata": {},
   "outputs": [
    {
     "name": "stdout",
     "output_type": "stream",
     "text": [
      "Epoch:  0 Cost:  0.5397130846977234 accuracy:  0.8333333333333334\n",
      "Epoch:  100 Cost:  0.4076883792877197 accuracy:  0.8333333333333334\n",
      "Epoch:  200 Cost:  0.34564945101737976 accuracy:  0.8333333333333334\n",
      "Epoch:  300 Cost:  0.29832255840301514 accuracy:  0.8333333333333334\n",
      "Epoch:  400 Cost:  0.26117900013923645 accuracy:  0.8333333333333334\n",
      "Epoch:  500 Cost:  0.2316325306892395 accuracy:  1.0\n",
      "Epoch:  600 Cost:  0.20777933299541473 accuracy:  1.0\n",
      "Epoch:  700 Cost:  0.18822987377643585 accuracy:  1.0\n",
      "Epoch:  800 Cost:  0.171975776553154 accuracy:  1.0\n",
      "Epoch:  900 Cost:  0.15828154981136322 accuracy:  1.0\n",
      "Epoch:  1000 Cost:  0.1466049700975418 accuracy:  1.0\n",
      "Epoch:  1100 Cost:  0.13654100894927979 accuracy:  1.0\n",
      "Epoch:  1200 Cost:  0.12778277695178986 accuracy:  1.0\n",
      "Epoch:  1300 Cost:  0.12009507417678833 accuracy:  1.0\n",
      "Epoch:  1400 Cost:  0.11329445987939835 accuracy:  1.0\n",
      "Epoch:  1500 Cost:  0.10723665356636047 accuracy:  1.0\n",
      "Epoch:  1600 Cost:  0.1018064096570015 accuracy:  1.0\n",
      "Epoch:  1700 Cost:  0.09691128879785538 accuracy:  1.0\n",
      "Epoch:  1800 Cost:  0.09247559309005737 accuracy:  1.0\n",
      "Epoch:  1900 Cost:  0.08843735605478287 accuracy:  1.0\n",
      "Epoch:  2000 Cost:  0.08474519848823547 accuracy:  1.0\n",
      "Epoch:  2100 Cost:  0.08135620504617691 accuracy:  1.0\n",
      "Epoch:  2200 Cost:  0.07823427021503448 accuracy:  1.0\n",
      "Epoch:  2300 Cost:  0.07534879446029663 accuracy:  1.0\n",
      "Epoch:  2400 Cost:  0.07267355918884277 accuracy:  1.0\n",
      "Epoch:  2500 Cost:  0.07018626481294632 accuracy:  1.0\n",
      "Epoch:  2600 Cost:  0.06786758452653885 accuracy:  1.0\n",
      "Epoch:  2700 Cost:  0.06570073962211609 accuracy:  1.0\n",
      "Epoch:  2800 Cost:  0.06367117166519165 accuracy:  1.0\n",
      "Epoch:  2900 Cost:  0.06176605448126793 accuracy:  1.0\n",
      "Epoch:  3000 Cost:  0.059974152594804764 accuracy:  1.0\n",
      "Epoch:  3100 Cost:  0.05828561261296272 accuracy:  1.0\n",
      "Epoch:  3200 Cost:  0.056691575795412064 accuracy:  1.0\n",
      "Epoch:  3300 Cost:  0.055184315890073776 accuracy:  1.0\n",
      "Epoch:  3400 Cost:  0.0537567101418972 accuracy:  1.0\n",
      "Epoch:  3500 Cost:  0.05240270122885704 accuracy:  1.0\n",
      "Epoch:  3600 Cost:  0.051116570830345154 accuracy:  1.0\n",
      "Epoch:  3700 Cost:  0.04989327862858772 accuracy:  1.0\n",
      "Epoch:  3800 Cost:  0.048728346824645996 accuracy:  1.0\n",
      "Epoch:  3900 Cost:  0.04761766269803047 accuracy:  1.0\n",
      "Epoch:  4000 Cost:  0.04655733332037926 accuracy:  1.0\n",
      "Epoch:  4100 Cost:  0.045544106513261795 accuracy:  1.0\n",
      "Epoch:  4200 Cost:  0.04457481577992439 accuracy:  1.0\n",
      "Epoch:  4300 Cost:  0.04364669695496559 accuracy:  1.0\n",
      "Epoch:  4400 Cost:  0.0427570603787899 accuracy:  1.0\n",
      "Epoch:  4500 Cost:  0.04190361499786377 accuracy:  1.0\n",
      "Epoch:  4600 Cost:  0.04108411446213722 accuracy:  1.0\n",
      "Epoch:  4700 Cost:  0.040296558290719986 accuracy:  1.0\n",
      "Epoch:  4800 Cost:  0.03953913226723671 accuracy:  1.0\n",
      "Epoch:  4900 Cost:  0.03881009295582771 accuracy:  1.0\n",
      "Epoch:  5000 Cost:  0.03810785338282585 accuracy:  1.0\n",
      "Epoch:  5100 Cost:  0.03743096813559532 accuracy:  1.0\n",
      "Epoch:  5200 Cost:  0.03677809238433838 accuracy:  1.0\n",
      "Epoch:  5300 Cost:  0.03614788129925728 accuracy:  1.0\n",
      "Epoch:  5400 Cost:  0.03553927689790726 accuracy:  1.0\n",
      "Epoch:  5500 Cost:  0.03495103493332863 accuracy:  1.0\n",
      "Epoch:  5600 Cost:  0.03438228368759155 accuracy:  1.0\n",
      "Epoch:  5700 Cost:  0.03383192420005798 accuracy:  1.0\n",
      "Epoch:  5800 Cost:  0.03329913690686226 accuracy:  1.0\n",
      "Epoch:  5900 Cost:  0.032783158123493195 accuracy:  1.0\n",
      "Epoch:  6000 Cost:  0.03228306770324707 accuracy:  1.0\n",
      "Epoch:  6100 Cost:  0.031798239797353745 accuracy:  1.0\n",
      "Epoch:  6200 Cost:  0.03132791444659233 accuracy:  1.0\n",
      "Epoch:  6300 Cost:  0.030871475115418434 accuracy:  1.0\n",
      "Epoch:  6400 Cost:  0.03042830526828766 accuracy:  1.0\n",
      "Epoch:  6500 Cost:  0.029997805133461952 accuracy:  1.0\n",
      "Epoch:  6600 Cost:  0.02957948110997677 accuracy:  1.0\n",
      "Epoch:  6700 Cost:  0.02917277254164219 accuracy:  1.0\n",
      "Epoch:  6800 Cost:  0.028777219355106354 accuracy:  1.0\n",
      "Epoch:  6900 Cost:  0.028392368927598 accuracy:  1.0\n",
      "Epoch:  7000 Cost:  0.02801779843866825 accuracy:  1.0\n",
      "Epoch:  7100 Cost:  0.02765304408967495 accuracy:  1.0\n",
      "Epoch:  7200 Cost:  0.02729777991771698 accuracy:  1.0\n",
      "Epoch:  7300 Cost:  0.026951642706990242 accuracy:  1.0\n",
      "Epoch:  7400 Cost:  0.026614246889948845 accuracy:  1.0\n",
      "Epoch:  7500 Cost:  0.026285266503691673 accuracy:  1.0\n",
      "Epoch:  7600 Cost:  0.02596440352499485 accuracy:  1.0\n",
      "Epoch:  7700 Cost:  0.02565132826566696 accuracy:  1.0\n",
      "Epoch:  7800 Cost:  0.025345822796225548 accuracy:  1.0\n",
      "Epoch:  7900 Cost:  0.025047563016414642 accuracy:  1.0\n",
      "Epoch:  8000 Cost:  0.02475629560649395 accuracy:  1.0\n",
      "Epoch:  8100 Cost:  0.024471797049045563 accuracy:  1.0\n",
      "Epoch:  8200 Cost:  0.02419380098581314 accuracy:  1.0\n",
      "Epoch:  8300 Cost:  0.023922095075249672 accuracy:  1.0\n",
      "Epoch:  8400 Cost:  0.023656515404582024 accuracy:  1.0\n",
      "Epoch:  8500 Cost:  0.023396795615553856 accuracy:  1.0\n",
      "Epoch:  8600 Cost:  0.02314276061952114 accuracy:  1.0\n",
      "Epoch:  8700 Cost:  0.022894233465194702 accuracy:  1.0\n",
      "Epoch:  8800 Cost:  0.022651009261608124 accuracy:  1.0\n",
      "Epoch:  8900 Cost:  0.0224129781126976 accuracy:  1.0\n",
      "Epoch:  9000 Cost:  0.022179903462529182 accuracy:  1.0\n",
      "Epoch:  9100 Cost:  0.02195163629949093 accuracy:  1.0\n",
      "Epoch:  9200 Cost:  0.02172810025513172 accuracy:  1.0\n",
      "Epoch:  9300 Cost:  0.02150910347700119 accuracy:  1.0\n",
      "Epoch:  9400 Cost:  0.0212944895029068 accuracy:  1.0\n",
      "Epoch:  9500 Cost:  0.021084154024720192 accuracy:  1.0\n",
      "Epoch:  9600 Cost:  0.020877964794635773 accuracy:  1.0\n",
      "Epoch:  9700 Cost:  0.020675761625170708 accuracy:  1.0\n",
      "Epoch:  9800 Cost:  0.020477518439292908 accuracy:  1.0\n",
      "Epoch:  9900 Cost:  0.02028304897248745 accuracy:  1.0\n",
      "Epoch:  10000 Cost:  0.02009223960340023 accuracy:  1.0\n"
     ]
    }
   ],
   "source": [
    "optimizer = optim.SGD(model.parameters(), lr=0.1)\n",
    "nb_epoch = 10000\n",
    "costs = []\n",
    "accuracy_list = []\n",
    "\n",
    "for epoch in range(nb_epoch+1):\n",
    "    h = model(x_train)\n",
    "    cost = F.binary_cross_entropy(h, y_train)\n",
    "\n",
    "    optimizer.zero_grad()\n",
    "    cost.backward()\n",
    "    optimizer.step()\n",
    "    costs.append(cost.item())\n",
    "\n",
    "    if epoch % 100 == 0:\n",
    "        pred = h>= torch.FloatTensor([0.5])\n",
    "        correct_pred = pred.float() == y_train\n",
    "        accuracy = correct_pred.sum().item()/len(correct_pred)\n",
    "        accuracy_list.append(accuracy*100)\n",
    "\n",
    "        print('Epoch: ', epoch, 'Cost: ', cost.item(), 'accuracy: ', accuracy)"
   ]
  },
  {
   "cell_type": "code",
   "execution_count": 12,
   "metadata": {},
   "outputs": [
    {
     "data": {
      "image/png": "[encoded data removed]",
      "text/plain": [
       "<Figure size 640x480 with 1 Axes>"
      ]
     },
     "metadata": {},
     "output_type": "display_data"
    }
   ],
   "source": [
    "import matplotlib.pyplot as plt\n",
    "\n",
    "\n",
    "s1=pd.Series(costs)\n",
    "plt.plot(s1)\n",
    "plt.title(\"cost\")\n",
    "plt.show()\n"
   ]
  },
  {
   "cell_type": "code",
   "execution_count": 13,
   "metadata": {},
   "outputs": [
    {
     "data": {
      "image/png": "[encoded data removed]",
      "text/plain": [
       "<Figure size 640x480 with 1 Axes>"
      ]
     },
     "metadata": {},
     "output_type": "display_data"
    }
   ],
   "source": [
    "\n",
    "\n",
    "s2=pd.Series(accuracy_list)\n",
    "plt.plot(s2)\n",
    "plt.title(\"accuracy\")\n",
    "plt.show()"
   ]
  },
  {
   "cell_type": "code",
   "execution_count": 14,
   "metadata": {},
   "outputs": [
    {
     "data": {
      "text/plain": [
       "tensor([[0.],\n",
       "        [0.],\n",
       "        [0.],\n",
       "        [1.],\n",
       "        [1.],\n",
       "        [1.]])"
      ]
     },
     "execution_count": 14,
     "metadata": {},
     "output_type": "execute_result"
    }
   ],
   "source": [
    "h2=model(x_train)\n",
    "pred2= h2>=torch.FloatTensor([0.5])\n",
    "pred2.float()"
   ]
  },
  {
   "cell_type": "code",
   "execution_count": 15,
   "metadata": {},
   "outputs": [],
   "source": [
    "class BinaryClassifier(nn.Module):\n",
    "    def __init__(self):\n",
    "        super().__init__()\n",
    "        self.linear=nn.Linear(2,1)\n",
    "        self.sigmoid=nn.Sigmoid()\n",
    "\n",
    "    def forward(self, x):\n",
    "        return self.sigmoid(self.linear(x))\n",
    "    \n",
    "    "
   ]
  },
  {
   "cell_type": "code",
   "execution_count": 16,
   "metadata": {},
   "outputs": [],
   "source": [
    "model=BinaryClassifier()\n",
    "optimizer=optim.SGD(model.parameters(), lr=0.1)\n"
   ]
  },
  {
   "cell_type": "code",
   "execution_count": 17,
   "metadata": {},
   "outputs": [],
   "source": [
    "nb_epochs=2000\n",
    "accuracy_list=[]\n",
    "cost_list=[]\n"
   ]
  },
  {
   "cell_type": "code",
   "execution_count": 18,
   "metadata": {},
   "outputs": [
    {
     "name": "stdout",
     "output_type": "stream",
     "text": [
      "epoch :  0 cost :  0.6149943470954895 accuracy :  0.6666666666666666\n",
      "epoch :  100 cost :  0.4551481008529663 accuracy :  0.8333333333333334\n",
      "epoch :  200 cost :  0.38301217555999756 accuracy :  0.8333333333333334\n",
      "epoch :  300 cost :  0.327485054731369 accuracy :  0.8333333333333334\n",
      "epoch :  400 cost :  0.2841247022151947 accuracy :  0.8333333333333334\n",
      "epoch :  500 cost :  0.24992986023426056 accuracy :  1.0\n",
      "epoch :  600 cost :  0.22259187698364258 accuracy :  1.0\n",
      "epoch :  700 cost :  0.20040340721607208 accuracy :  1.0\n",
      "epoch :  800 cost :  0.18212337791919708 accuracy :  1.0\n",
      "epoch :  900 cost :  0.16685110330581665 accuracy :  1.0\n",
      "epoch :  1000 cost :  0.15392734110355377 accuracy :  1.0\n",
      "epoch :  1100 cost :  0.14286398887634277 accuracy :  1.0\n",
      "epoch :  1200 cost :  0.1332947462797165 accuracy :  1.0\n",
      "epoch :  1300 cost :  0.12494060397148132 accuracy :  1.0\n",
      "epoch :  1400 cost :  0.11758670210838318 accuracy :  1.0\n",
      "epoch :  1500 cost :  0.11106470227241516 accuracy :  1.0\n",
      "epoch :  1600 cost :  0.10524165630340576 accuracy :  1.0\n",
      "epoch :  1700 cost :  0.10001111775636673 accuracy :  1.0\n",
      "epoch :  1800 cost :  0.09528698772192001 accuracy :  1.0\n",
      "epoch :  1900 cost :  0.09099895507097244 accuracy :  1.0\n"
     ]
    }
   ],
   "source": [
    "for epoch in range(nb_epochs):\n",
    "    h=model(x_train)\n",
    "    cost=F.binary_cross_entropy(h, y_train)\n",
    "\n",
    "    optimizer.zero_grad()\n",
    "    cost.backward()\n",
    "    optimizer.step()\n",
    "\n",
    "    prediction = h>=torch.FloatTensor([0.5])\n",
    "    correct_pred = prediction.float()==y_train\n",
    "    accuracy = correct_pred.sum().item()/len(correct_pred)\n",
    "    cost_list.append(cost.item())\n",
    "    accuracy_list.append(accuracy)\n",
    "\n",
    "    if epoch%100 == 0:\n",
    "        print('epoch : ',epoch, 'cost : ', cost.item(), 'accuracy : ', accuracy)\n"
   ]
  },
  {
   "cell_type": "code",
   "execution_count": 19,
   "metadata": {},
   "outputs": [
    {
     "data": {
      "image/png": "[encoded data removed]",
      "text/plain": [
       "<Figure size 640x480 with 1 Axes>"
      ]
     },
     "metadata": {},
     "output_type": "display_data"
    }
   ],
   "source": [
    "s1=pd.Series(cost_list)\n",
    "plt.plot(s1)\n",
    "plt.title(\"cost\")\n",
    "plt.show()"
   ]
  },
  {
   "cell_type": "code",
   "execution_count": 20,
   "metadata": {},
   "outputs": [
    {
     "data": {
      "image/png": "[encoded data removed]",
      "text/plain": [
       "<Figure size 640x480 with 1 Axes>"
      ]
     },
     "metadata": {},
     "output_type": "display_data"
    }
   ],
   "source": [
    "s2=pd.Series(accuracy_list)\n",
    "plt.plot(s2)\n",
    "plt.title(\"accuracy\")\n",
    "plt.show()"
   ]
  }
 ],
 "metadata": {
  "kernelspec": {
   "display_name": "base",
   "language": "python",
   "name": "python3"
  },
  "language_info": {
   "codemirror_mode": {
    "name": "ipython",
    "version": 3
   },
   "file_extension": ".py",
   "mimetype": "text/x-python",
   "name": "python",
   "nbconvert_exporter": "python",
   "pygments_lexer": "ipython3",
   "version": "3.11.3"
  },
  "orig_nbformat": 4
 },
 "nbformat": 4,
 "nbformat_minor": 2
}
