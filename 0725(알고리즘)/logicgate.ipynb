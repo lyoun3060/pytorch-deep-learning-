{
 "cells": [
  {
   "cell_type": "code",
   "execution_count": 1,
   "metadata": {},
   "outputs": [],
   "source": [
    "import numpy as np"
   ]
  },
  {
   "cell_type": "code",
   "execution_count": 2,
   "metadata": {},
   "outputs": [],
   "source": [
    "def AND_gate(x):\n",
    "    w1=0.5\n",
    "    w2=0.5\n",
    "    b=-0.7\n",
    "\n",
    "    result=x[0]*w1 + x[1]*w2 + b\n",
    "\n",
    "    if result <=0:\n",
    "       return 0\n",
    "    else:\n",
    "        return 1"
   ]
  },
  {
   "cell_type": "code",
   "execution_count": 3,
   "metadata": {},
   "outputs": [
    {
     "name": "stdout",
     "output_type": "stream",
     "text": [
      "[0, 0, 0, 1]\n"
     ]
    }
   ],
   "source": [
    "input_data=np.array([[0,0],[0,1],[1,0],[1,1]])\n",
    "result=[]\n",
    "for x in input_data:\n",
    "    result.append(AND_gate(x))\n",
    "\n",
    "print(result)"
   ]
  },
  {
   "cell_type": "code",
   "execution_count": 4,
   "metadata": {},
   "outputs": [],
   "source": [
    "def NAND_gate(x):\n",
    "    w1=-0.5\n",
    "    w2=-0.5\n",
    "    b=0.7\n",
    "    \n",
    "    result=x[0]*w1 + x[1]*w2 + b\n",
    "\n",
    "    if result <=0:\n",
    "       return 0\n",
    "    else:\n",
    "        return 1\n"
   ]
  },
  {
   "cell_type": "code",
   "execution_count": 5,
   "metadata": {},
   "outputs": [
    {
     "name": "stdout",
     "output_type": "stream",
     "text": [
      "[1, 1, 1, 0]\n"
     ]
    }
   ],
   "source": [
    "result=[]\n",
    "for x in input_data:\n",
    "    result.append(NAND_gate(x))\n",
    "print(result)"
   ]
  },
  {
   "cell_type": "code",
   "execution_count": 6,
   "metadata": {},
   "outputs": [],
   "source": [
    "def OR_gate(x):\n",
    "    w1=0.6\n",
    "    w2=0.6\n",
    "    b=-0.5\n",
    "    \n",
    "    result=x[0]*w1 + x[1]*w2 + b\n",
    "\n",
    "    if result <=0:\n",
    "       return 0\n",
    "    else:\n",
    "        return 1"
   ]
  },
  {
   "cell_type": "code",
   "execution_count": 8,
   "metadata": {},
   "outputs": [
    {
     "name": "stdout",
     "output_type": "stream",
     "text": [
      "[0, 1, 1, 1]\n"
     ]
    }
   ],
   "source": [
    "result=[]\n",
    "for x in input_data:\n",
    "    result.append(OR_gate(x))\n",
    "print(result)"
   ]
  },
  {
   "cell_type": "code",
   "execution_count": 13,
   "metadata": {},
   "outputs": [
    {
     "name": "stdout",
     "output_type": "stream",
     "text": [
      "[0, 1, 1, 0]\n"
     ]
    }
   ],
   "source": [
    "s1=[]\n",
    "s2=[]\n",
    "new_input=[]\n",
    "final_output=[]\n",
    "\n",
    "for i in range(len(input_data)):\n",
    "    s1 = NAND_gate(input_data[i])\n",
    "    s2 = OR_gate(input_data[i])\n",
    "    new_input.append(s1)\n",
    "    new_input.append(s2)\n",
    "\n",
    "\n",
    "    result = AND_gate(new_input)\n",
    "    final_output.append(result)\n",
    "    new_input=[]\n",
    "print(final_output)"
   ]
  },
  {
   "cell_type": "code",
   "execution_count": 22,
   "metadata": {},
   "outputs": [],
   "source": [
    "import torch\n",
    "import torch.nn as nn\n",
    "import torch.nn.functional as F\n",
    "import torch.optim as optim"
   ]
  },
  {
   "cell_type": "code",
   "execution_count": 27,
   "metadata": {},
   "outputs": [],
   "source": [
    "x = torch.FloatTensor([[0,0], [0,1], [1,0], [1,1]])\n",
    "y = torch.FloatTensor([[0],[1],[1],[0]]) "
   ]
  },
  {
   "cell_type": "code",
   "execution_count": 28,
   "metadata": {},
   "outputs": [],
   "source": [
    "#파이토치의 nn.Sequential은 순차적으로 레이어를 쌓아 신경망 모델을 만드는 방법 중 하나\n",
    "#Sequential 모델은 입력부터 출력까지 순차적으로 연결된 레이어들을 간단하게 정의할 수 있어서 편리하게 사용\n",
    "\n",
    "model = nn.Sequential(\n",
    "    nn.Linear(2, 10, bias=True), #nn.Linear(2, 10, bias=True): 2개의 입력 노드와 10개의 출력 노드를 가진 선형 레이어입니다. 이 레이어는 입력과 출력을 모두 연결하는 가중치와 편향을 포함합니다.\n",
    "    nn.Sigmoid(), # nn.Sigmoid(): 시그모이드 활성화 함수를 적용하는 레이어입니다. 시그모이드 함수는 입력값을 0과 1 사이의 값으로 변환하여 출력합니다.\n",
    "    nn.Linear(10, 10, bias=True), # nn.Linear(10, 10, bias=True): 10개의 입력 노드와 10개의 출력 노드를 가진 선형 레이어입니다.\n",
    "    nn.Sigmoid(),\n",
    "    nn.Linear(10, 10, bias=True),\n",
    "    nn.Sigmoid(),\n",
    "    nn.Linear(10, 1, bias=True), # nn.Linear(10, 1, bias=True): 10개의 입력 노드와 1개의 출력 노드를 가진 선형 레이어입니다. 이 레이어는 마지막 결과를 출력하는 데 사용됩니다\n",
    "    nn.Sigmoid()\n",
    ")"
   ]
  },
  {
   "cell_type": "code",
   "execution_count": 29,
   "metadata": {},
   "outputs": [],
   "source": [
    "criterion = torch.nn.BCELoss()\n",
    "optimizer= optim.SGD(model.parameters(), lr=1)"
   ]
  },
  {
   "cell_type": "code",
   "execution_count": 32,
   "metadata": {},
   "outputs": [
    {
     "name": "stdout",
     "output_type": "stream",
     "text": [
      "0 0.00010704212763812393\n",
      "1000 9.124650387093425e-05\n",
      "2000 7.939473289297894e-05\n",
      "3000 7.020802149781957e-05\n",
      "4000 6.286303687375039e-05\n",
      "5000 5.687738303095102e-05\n",
      "6000 5.188302748138085e-05\n",
      "7000 4.770710438606329e-05\n",
      "8000 4.4120293750893325e-05\n",
      "9000 4.1005474486155435e-05\n",
      "10000 3.828779517789371e-05\n",
      "11000 3.5903824027627707e-05\n",
      "12000 3.3827902370831e-05\n",
      "13000 3.1949315598467365e-05\n",
      "14000 3.0253006116254255e-05\n",
      "15000 2.872612458304502e-05\n",
      "16000 2.7353504265192896e-05\n",
      "17000 2.6099567548953928e-05\n",
      "18000 2.492845851520542e-05\n",
      "19000 2.3886983399279416e-05\n",
      "20000 2.2922329662833363e-05\n",
      "21000 2.2016996808815747e-05\n",
      "22000 2.1173957065911964e-05\n",
      "23000 2.0422539819264784e-05\n",
      "24000 1.9690245608217083e-05\n",
      "25000 1.9014976714970544e-05\n",
      "26000 1.8388840544503182e-05\n",
      "27000 1.781080754881259e-05\n",
      "28000 1.7248879885300994e-05\n",
      "29000 1.6706500900909305e-05\n",
      "30000 1.6234376744250767e-05\n",
      "31000 1.5743999028927647e-05\n",
      "32000 1.5327650544350035e-05\n",
      "33000 1.48934377648402e-05\n",
      "34000 1.4525984624924604e-05\n",
      "35000 1.4140621715341695e-05\n",
      "36000 1.3792651770927478e-05\n",
      "37000 1.3451077393256128e-05\n",
      "38000 1.3118622518959455e-05\n",
      "39000 1.2795313523383811e-05\n",
      "40000 1.2536949725472368e-05\n",
      "41000 1.225505729962606e-05\n",
      "42000 1.1979111150139943e-05\n",
      "43000 1.1707052181009203e-05\n",
      "44000 1.1468930097180419e-05\n",
      "45000 1.1236887985432986e-05\n",
      "46000 1.101095858757617e-05\n",
      "47000 1.0787098290165886e-05\n",
      "48000 1.0568080142547842e-05\n",
      "49000 1.0382020263932645e-05\n",
      "50000 1.0169131201109849e-05\n",
      "51000 9.960446732293349e-06\n",
      "52000 9.816058081923984e-06\n",
      "53000 9.614234841137659e-06\n",
      "54000 9.443561793887056e-06\n",
      "55000 9.306468200520612e-06\n",
      "56000 9.113607120525558e-06\n",
      "57000 8.981583960121498e-06\n",
      "58000 8.851315214997157e-06\n",
      "59000 8.663575499667786e-06\n",
      "60000 8.536606401321478e-06\n",
      "61000 8.413637260673568e-06\n",
      "62000 8.293167411466129e-06\n",
      "63000 8.174234608304687e-06\n",
      "64000 8.02838258096017e-06\n",
      "65000 7.91352431406267e-06\n",
      "66000 7.799395461915992e-06\n",
      "67000 7.685723176109605e-06\n",
      "68000 7.57309408072615e-06\n",
      "69000 7.462272151315119e-06\n",
      "70000 7.352846296271309e-06\n",
      "71000 7.244684638862964e-06\n",
      "72000 7.197937520686537e-06\n",
      "73000 7.093134627211839e-06\n",
      "74000 6.989218036324019e-06\n",
      "75000 6.886535629746504e-06\n",
      "76000 6.785837285860907e-06\n",
      "77000 6.71634916216135e-06\n",
      "78000 6.6470443016442005e-06\n",
      "79000 6.54869882055209e-06\n",
      "80000 6.481307536887471e-06\n",
      "81000 6.3844231590337586e-06\n",
      "82000 6.31831471764599e-06\n",
      "83000 6.2532294577977154e-06\n",
      "84000 6.158491032692837e-06\n",
      "85000 6.0947186284465715e-06\n",
      "86000 6.031786142557394e-06\n",
      "87000 5.939798029430676e-06\n",
      "88000 5.907671948079951e-06\n",
      "89000 5.817007604491664e-06\n",
      "90000 5.757754479418509e-06\n",
      "91000 5.6978515203809366e-06\n",
      "92000 5.639632945531048e-06\n",
      "93000 5.5804716794227716e-06\n",
      "94000 5.493738171935547e-06\n",
      "95000 5.465488811751129e-06\n",
      "96000 5.380036327551352e-06\n",
      "97000 5.35266735823825e-06\n",
      "98000 5.269133453111863e-06\n",
      "99000 5.2423788474698085e-06\n",
      "100000 5.18937213200843e-06\n"
     ]
    }
   ],
   "source": [
    "for epoch in range(100001):\n",
    "    optimizer.zero_grad()\n",
    "\n",
    "    y_hat=model(x)\n",
    "    cost=criterion(y_hat, y)\n",
    "    cost.backward()\n",
    "    optimizer.step()\n",
    "\n",
    "    if epoch%1000==0:\n",
    "        print(epoch, cost.item())"
   ]
  },
  {
   "cell_type": "code",
   "execution_count": 34,
   "metadata": {},
   "outputs": [
    {
     "name": "stdout",
     "output_type": "stream",
     "text": [
      "tensor([[4.0908e-06],\n",
      "        [9.9999e-01],\n",
      "        [9.9999e-01],\n",
      "        [5.6993e-06]])\n",
      "tensor([[0.],\n",
      "        [1.],\n",
      "        [1.],\n",
      "        [0.]])\n",
      "tensor(1.)\n",
      "tensor([[0.],\n",
      "        [1.],\n",
      "        [1.],\n",
      "        [0.]])\n"
     ]
    }
   ],
   "source": [
    "with torch.no_grad():\n",
    "    h=model(x)\n",
    "    prediction=(h>0.5).float()\n",
    "    accuracy=(prediction==y).float().mean()\n",
    "    print(h)\n",
    "    print(prediction)\n",
    "    print(accuracy)\n",
    "    print(y)"
   ]
  },
  {
   "cell_type": "code",
   "execution_count": 36,
   "metadata": {},
   "outputs": [
    {
     "ename": "AttributeError",
     "evalue": "module 'matplotlib.pyplot' has no attribute 'plt'",
     "output_type": "error",
     "traceback": [
      "\u001b[1;31m---------------------------------------------------------------------------\u001b[0m",
      "\u001b[1;31mAttributeError\u001b[0m                            Traceback (most recent call last)",
      "Cell \u001b[1;32mIn[36], line 10\u001b[0m\n\u001b[0;32m      7\u001b[0m y\u001b[39m=\u001b[39msigmoid(x)\n\u001b[0;32m      9\u001b[0m plt\u001b[39m.\u001b[39mplot(x,y)\n\u001b[1;32m---> 10\u001b[0m plt\u001b[39m.\u001b[39mplt([\u001b[39m0\u001b[39m,\u001b[39m0\u001b[39m], [\u001b[39m0\u001b[39m,\u001b[39m1\u001b[39m], [\u001b[39m1\u001b[39m,\u001b[39m0\u001b[39m], [\u001b[39m1\u001b[39m,\u001b[39m1\u001b[39m])\n\u001b[0;32m     11\u001b[0m plt\u001b[39m.\u001b[39mtitle(\u001b[39m\"\u001b[39m\u001b[39mSigmoid Function\u001b[39m\u001b[39m\"\u001b[39m)\n\u001b[0;32m     12\u001b[0m plt\u001b[39m.\u001b[39mshow()\n",
      "\u001b[1;31mAttributeError\u001b[0m: module 'matplotlib.pyplot' has no attribute 'plt'"
     ]
    },
    {
     "data": {
      "image/png": "[encoded data removed]",
      "text/plain": [
       "<Figure size 640x480 with 1 Axes>"
      ]
     },
     "metadata": {},
     "output_type": "display_data"
    }
   ],
   "source": [
    "import matplotlib.pyplot as plt\n",
    "\n",
    "def sigmoid(x):\n",
    "    return 1/(1+np.exp(-x))\n",
    "\n",
    "x=np.arange(-5.0, 5.0, 0.1)\n",
    "y=sigmoid(x)\n",
    "\n",
    "plt.plot(x,y)\n",
    "plt.plt([0,0], [1.0, 0.0], :)\n",
    "plt.title(\"Sigmoid Function\")\n",
    "plt.show()"
   ]
  }
 ],
 "metadata": {
  "kernelspec": {
   "display_name": "base",
   "language": "python",
   "name": "python3"
  },
  "language_info": {
   "codemirror_mode": {
    "name": "ipython",
    "version": 3
   },
   "file_extension": ".py",
   "mimetype": "text/x-python",
   "name": "python",
   "nbconvert_exporter": "python",
   "pygments_lexer": "ipython3",
   "version": "3.11.3"
  },
  "orig_nbformat": 4
 },
 "nbformat": 4,
 "nbformat_minor": 2
}
