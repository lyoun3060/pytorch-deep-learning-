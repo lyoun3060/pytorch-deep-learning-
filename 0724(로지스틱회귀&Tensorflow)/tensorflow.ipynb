{
 "cells": [
  {
   "cell_type": "code",
   "execution_count": 110,
   "metadata": {},
   "outputs": [],
   "source": [
    "import torch\n",
    "import torch.nn as nn\n",
    "import torch.nn.functional as F\n",
    "import torch.optim as optim"
   ]
  },
  {
   "cell_type": "code",
   "execution_count": 111,
   "metadata": {},
   "outputs": [
    {
     "name": "stdout",
     "output_type": "stream",
     "text": [
      "torch.Size([6, 2])\n",
      "torch.Size([6, 1])\n"
     ]
    }
   ],
   "source": [
    "torch.manual_seed(1)\n",
    "x_data = [[1,2],[2,3],[3,1],[4,3],[5,3],[6,2]]\n",
    "t_data = [[0],[0],[0],[1],[1],[1]]\n",
    "x_train=torch.FloatTensor(x_data)\n",
    "y_train=torch.FloatTensor(t_data)\n",
    "print(x_train.size())\n",
    "print(y_train.size())"
   ]
  },
  {
   "cell_type": "code",
   "execution_count": 112,
   "metadata": {},
   "outputs": [],
   "source": [
    "W=torch.zeros((2,1), requires_grad=True)\n",
    "b=torch.zeros(1, requires_grad=True)\n",
    "\n",
    "optimizer=optim.SGD([W,b], lr=0.1)\n",
    "nb_epoch=1000\n",
    "costs=[]"
   ]
  },
  {
   "cell_type": "code",
   "execution_count": 113,
   "metadata": {},
   "outputs": [
    {
     "name": "stdout",
     "output_type": "stream",
     "text": [
      "Epoch :  0 \n",
      " Cost :  0.6931471824645996\n",
      "Epoch :  100 \n",
      " Cost :  0.41432666778564453\n",
      "Epoch :  200 \n",
      " Cost :  0.34952056407928467\n",
      "Epoch :  300 \n",
      " Cost :  0.3013016879558563\n",
      "Epoch :  400 \n",
      " Cost :  0.26353225111961365\n",
      "Epoch :  500 \n",
      " Cost :  0.23351818323135376\n",
      "Epoch :  600 \n",
      " Cost :  0.20931296050548553\n",
      "Epoch :  700 \n",
      " Cost :  0.1894957274198532\n",
      "Epoch :  800 \n",
      " Cost :  0.17303510010242462\n",
      "Epoch :  900 \n",
      " Cost :  0.15917940437793732\n"
     ]
    }
   ],
   "source": [
    "for epoch in range(nb_epoch):\n",
    "    y=x_train.matmul(W)+b\n",
    "    h= torch.sigmoid(y)\n",
    "\n",
    "    cost=-(y_train*torch.log(h) + (1-y_train)*torch.log(1-h)).mean()\n",
    "    #실제값이 1일때, -(y_train*torch.log(h)로 구함 = 데이터마다 손실함수 구하는것\n",
    "    #실제값이 0일때, (1-y_train)으로 구함\n",
    "\n",
    "    optimizer.zero_grad()\n",
    "    cost.backward()\n",
    "    optimizer.step()\n",
    "    costs.append(cost.item())\n",
    "\n",
    "    if(epoch%100==0):\n",
    "        print('Epoch : ', epoch, '\\n', 'Cost : ', cost.item())\n"
   ]
  },
  {
   "cell_type": "code",
   "execution_count": 114,
   "metadata": {},
   "outputs": [
    {
     "name": "stdout",
     "output_type": "stream",
     "text": [
      "tensor([[0.0299],\n",
      "        [0.1576],\n",
      "        [0.3006],\n",
      "        [0.7833],\n",
      "        [0.9408],\n",
      "        [0.9806]], grad_fn=<SigmoidBackward0>)\n"
     ]
    }
   ],
   "source": [
    "h2=torch.sigmoid(x_train.matmul(W)+b)\n",
    "print(h2)"
   ]
  },
  {
   "cell_type": "code",
   "execution_count": 115,
   "metadata": {},
   "outputs": [
    {
     "name": "stdout",
     "output_type": "stream",
     "text": [
      "tensor([[False],\n",
      "        [False],\n",
      "        [False],\n",
      "        [ True],\n",
      "        [ True],\n",
      "        [ True]])\n"
     ]
    }
   ],
   "source": [
    "prediction = (h2>=torch.FloatTensor([0.5]))\n",
    "print(prediction)"
   ]
  },
  {
   "cell_type": "code",
   "execution_count": 116,
   "metadata": {},
   "outputs": [
    {
     "name": "stdout",
     "output_type": "stream",
     "text": [
      "tensor([[1.4806],\n",
      "        [0.3245]], requires_grad=True)\n",
      "tensor([-5.6105], requires_grad=True)\n"
     ]
    }
   ],
   "source": [
    "print(W)\n",
    "print(b)"
   ]
  },
  {
   "cell_type": "code",
   "execution_count": 117,
   "metadata": {},
   "outputs": [
    {
     "data": {
      "text/plain": [
       "<Axes: >"
      ]
     },
     "execution_count": 117,
     "metadata": {},
     "output_type": "execute_result"
    },
    {
     "data": {
      "image/png": "[encoded data removed]",
      "text/plain": [
       "<Figure size 640x480 with 1 Axes>"
      ]
     },
     "metadata": {},
     "output_type": "display_data"
    }
   ],
   "source": [
    "import pandas as pd\n",
    "s1=pd.Series(costs)\n",
    "s1.plot()"
   ]
  },
  {
   "cell_type": "code",
   "execution_count": 118,
   "metadata": {},
   "outputs": [
    {
     "data": {
      "text/plain": [
       "tensor([[0.4020],\n",
       "        [0.4147],\n",
       "        [0.6556],\n",
       "        [0.5948],\n",
       "        [0.6788],\n",
       "        [0.8061]], grad_fn=<SigmoidBackward0>)"
      ]
     },
     "execution_count": 118,
     "metadata": {},
     "output_type": "execute_result"
    }
   ],
   "source": [
    "model=nn.Sequential(\n",
    "    nn.Linear(2,1),\n",
    "    nn.Sigmoid()\n",
    ")\n",
    "\n",
    "model(x_train)\n",
    "\n"
   ]
  },
  {
   "cell_type": "code",
   "execution_count": 123,
   "metadata": {},
   "outputs": [
    {
     "name": "stdout",
     "output_type": "stream",
     "text": [
      "Epoch:  0 Cost:  0.020090356469154358 accuracy:  1.0\n",
      "Epoch:  100 Cost:  0.0199031513184309 accuracy:  1.0\n",
      "Epoch:  200 Cost:  0.019719472154974937 accuracy:  1.0\n",
      "Epoch:  300 Cost:  0.019539134576916695 accuracy:  1.0\n",
      "Epoch:  400 Cost:  0.019362112507224083 accuracy:  1.0\n",
      "Epoch:  500 Cost:  0.01918829046189785 accuracy:  1.0\n",
      "Epoch:  600 Cost:  0.019017556682229042 accuracy:  1.0\n",
      "Epoch:  700 Cost:  0.018849868327379227 accuracy:  1.0\n",
      "Epoch:  800 Cost:  0.0186851117759943 accuracy:  1.0\n",
      "Epoch:  900 Cost:  0.01852325163781643 accuracy:  1.0\n",
      "Epoch:  1000 Cost:  0.018364161252975464 accuracy:  1.0\n",
      "Epoch:  1100 Cost:  0.018207816407084465 accuracy:  1.0\n",
      "Epoch:  1200 Cost:  0.018054107204079628 accuracy:  1.0\n",
      "Epoch:  1300 Cost:  0.01790301501750946 accuracy:  1.0\n",
      "Epoch:  1400 Cost:  0.017754431813955307 accuracy:  1.0\n",
      "Epoch:  1500 Cost:  0.017608297988772392 accuracy:  1.0\n",
      "Epoch:  1600 Cost:  0.01746455766260624 accuracy:  1.0\n",
      "Epoch:  1700 Cost:  0.017323197796940804 accuracy:  1.0\n",
      "Epoch:  1800 Cost:  0.01718406192958355 accuracy:  1.0\n",
      "Epoch:  1900 Cost:  0.01704718917608261 accuracy:  1.0\n",
      "Epoch:  2000 Cost:  0.01691248267889023 accuracy:  1.0\n",
      "Epoch:  2100 Cost:  0.01677989773452282 accuracy:  1.0\n",
      "Epoch:  2200 Cost:  0.016649367287755013 accuracy:  1.0\n",
      "Epoch:  2300 Cost:  0.016520874574780464 accuracy:  1.0\n",
      "Epoch:  2400 Cost:  0.01639438234269619 accuracy:  1.0\n",
      "Epoch:  2500 Cost:  0.016269803047180176 accuracy:  1.0\n",
      "Epoch:  2600 Cost:  0.016147105023264885 accuracy:  1.0\n",
      "Epoch:  2700 Cost:  0.016026271507143974 accuracy:  1.0\n",
      "Epoch:  2800 Cost:  0.01590721122920513 accuracy:  1.0\n",
      "Epoch:  2900 Cost:  0.01578991487622261 accuracy:  1.0\n",
      "Epoch:  3000 Cost:  0.01567438431084156 accuracy:  1.0\n",
      "Epoch:  3100 Cost:  0.015560534782707691 accuracy:  1.0\n",
      "Epoch:  3200 Cost:  0.015448327176272869 accuracy:  1.0\n",
      "Epoch:  3300 Cost:  0.01533768605440855 accuracy:  1.0\n",
      "Epoch:  3400 Cost:  0.015228685922920704 accuracy:  1.0\n",
      "Epoch:  3500 Cost:  0.015121184289455414 accuracy:  1.0\n",
      "Epoch:  3600 Cost:  0.01501521561294794 accuracy:  1.0\n",
      "Epoch:  3700 Cost:  0.0149107426404953 accuracy:  1.0\n",
      "Epoch:  3800 Cost:  0.014807702042162418 accuracy:  1.0\n",
      "Epoch:  3900 Cost:  0.014706072397530079 accuracy:  1.0\n",
      "Epoch:  4000 Cost:  0.014605836011469364 accuracy:  1.0\n",
      "Epoch:  4100 Cost:  0.014506995677947998 accuracy:  1.0\n",
      "Epoch:  4200 Cost:  0.014409474097192287 accuracy:  1.0\n",
      "Epoch:  4300 Cost:  0.01431321632117033 accuracy:  1.0\n",
      "Epoch:  4400 Cost:  0.014218303374946117 accuracy:  1.0\n",
      "Epoch:  4500 Cost:  0.014124646782875061 accuracy:  1.0\n",
      "Epoch:  4600 Cost:  0.014032217673957348 accuracy:  1.0\n",
      "Epoch:  4700 Cost:  0.013940968550741673 accuracy:  1.0\n",
      "Epoch:  4800 Cost:  0.013850894756615162 accuracy:  1.0\n",
      "Epoch:  4900 Cost:  0.013761993497610092 accuracy:  1.0\n",
      "Epoch:  5000 Cost:  0.013674247078597546 accuracy:  1.0\n",
      "Epoch:  5100 Cost:  0.0135875903069973 accuracy:  1.0\n",
      "Epoch:  5200 Cost:  0.013502027839422226 accuracy:  1.0\n",
      "Epoch:  5300 Cost:  0.013417544774711132 accuracy:  1.0\n",
      "Epoch:  5400 Cost:  0.013334116898477077 accuracy:  1.0\n",
      "Epoch:  5500 Cost:  0.013251728378236294 accuracy:  1.0\n",
      "Epoch:  5600 Cost:  0.013170390389859676 accuracy:  1.0\n",
      "Epoch:  5700 Cost:  0.013090026564896107 accuracy:  1.0\n",
      "Epoch:  5800 Cost:  0.013010638765990734 accuracy:  1.0\n",
      "Epoch:  5900 Cost:  0.012932171113789082 accuracy:  1.0\n",
      "Epoch:  6000 Cost:  0.012854685075581074 accuracy:  1.0\n",
      "Epoch:  6100 Cost:  0.012778077274560928 accuracy:  1.0\n",
      "Epoch:  6200 Cost:  0.012702417559921741 accuracy:  1.0\n",
      "Epoch:  6300 Cost:  0.012627705931663513 accuracy:  1.0\n",
      "Epoch:  6400 Cost:  0.0125538045540452 accuracy:  1.0\n",
      "Epoch:  6500 Cost:  0.01248079165816307 accuracy:  1.0\n",
      "Epoch:  6600 Cost:  0.012408589012920856 accuracy:  1.0\n",
      "Epoch:  6700 Cost:  0.012337197549641132 accuracy:  1.0\n",
      "Epoch:  6800 Cost:  0.012266733683645725 accuracy:  1.0\n",
      "Epoch:  6900 Cost:  0.012197005562484264 accuracy:  1.0\n",
      "Epoch:  7000 Cost:  0.012128055095672607 accuracy:  1.0\n",
      "Epoch:  7100 Cost:  0.012059822678565979 accuracy:  1.0\n",
      "Epoch:  7200 Cost:  0.011992541141808033 accuracy:  1.0\n",
      "Epoch:  7300 Cost:  0.01192588359117508 accuracy:  1.0\n",
      "Epoch:  7400 Cost:  0.011859961785376072 accuracy:  1.0\n",
      "Epoch:  7500 Cost:  0.011794758029282093 accuracy:  1.0\n",
      "Epoch:  7600 Cost:  0.011730343103408813 accuracy:  1.0\n",
      "Epoch:  7700 Cost:  0.011666584759950638 accuracy:  1.0\n",
      "Epoch:  7800 Cost:  0.011603467166423798 accuracy:  1.0\n",
      "Epoch:  7900 Cost:  0.011541123501956463 accuracy:  1.0\n",
      "Epoch:  8000 Cost:  0.011479425244033337 accuracy:  1.0\n",
      "Epoch:  8100 Cost:  0.011418306268751621 accuracy:  1.0\n",
      "Epoch:  8200 Cost:  0.011357929557561874 accuracy:  1.0\n",
      "Epoch:  8300 Cost:  0.011298143304884434 accuracy:  1.0\n",
      "Epoch:  8400 Cost:  0.01123895589262247 accuracy:  1.0\n",
      "Epoch:  8500 Cost:  0.011180474422872066 accuracy:  1.0\n",
      "Epoch:  8600 Cost:  0.011122544296085835 accuracy:  1.0\n",
      "Epoch:  8700 Cost:  0.011065171100199223 accuracy:  1.0\n",
      "Epoch:  8800 Cost:  0.01100850012153387 accuracy:  1.0\n",
      "Epoch:  8900 Cost:  0.01095230970531702 accuracy:  1.0\n",
      "Epoch:  9000 Cost:  0.010896749794483185 accuracy:  1.0\n",
      "Epoch:  9100 Cost:  0.0108417347073555 accuracy:  1.0\n",
      "Epoch:  9200 Cost:  0.01078718900680542 accuracy:  1.0\n",
      "Epoch:  9300 Cost:  0.010733361355960369 accuracy:  1.0\n",
      "Epoch:  9400 Cost:  0.010679940693080425 accuracy:  1.0\n",
      "Epoch:  9500 Cost:  0.010627086274325848 accuracy:  1.0\n",
      "Epoch:  9600 Cost:  0.010574792511761189 accuracy:  1.0\n",
      "Epoch:  9700 Cost:  0.010522897355258465 accuracy:  1.0\n",
      "Epoch:  9800 Cost:  0.010471648536622524 accuracy:  1.0\n",
      "Epoch:  9900 Cost:  0.010420775972306728 accuracy:  1.0\n",
      "Epoch:  10000 Cost:  0.01037051621824503 accuracy:  1.0\n"
     ]
    }
   ],
   "source": [
    "optimizer = optim.SGD(model.parameters(), lr=0.1)\n",
    "nb_epoch = 10000\n",
    "costs = []\n",
    "accuracy_list = []\n",
    "\n",
    "for epoch in range(nb_epoch+1):\n",
    "    h = model(x_train)\n",
    "    cost = F.binary_cross_entropy(h, y_train)\n",
    "\n",
    "    optimizer.zero_grad()\n",
    "    cost.backward()\n",
    "    optimizer.step()\n",
    "    costs.append(cost.item())\n",
    "\n",
    "    if epoch % 100 == 0:\n",
    "        pred = h>= torch.FloatTensor([0.5])\n",
    "        correct_pred = pred.float() == y_train\n",
    "        accuracy = correct_pred.sum().item()/len(correct_pred)\n",
    "        accuracy_list.append(accuracy*100)\n",
    "\n",
    "        print('Epoch: ', epoch, 'Cost: ', cost.item(), 'accuracy: ', accuracy)"
   ]
  },
  {
   "cell_type": "code",
   "execution_count": 124,
   "metadata": {},
   "outputs": [
    {
     "data": {
      "image/png": "[encoded data removed]",
      "text/plain": [
       "<Figure size 640x480 with 1 Axes>"
      ]
     },
     "metadata": {},
     "output_type": "display_data"
    }
   ],
   "source": [
    "import matplotlib.pyplot as plt\n",
    "\n",
    "\n",
    "s1=pd.Series(costs)\n",
    "plt.plot(s1)\n",
    "plt.title(\"cost\")\n",
    "plt.show()\n"
   ]
  },
  {
   "cell_type": "code",
   "execution_count": 125,
   "metadata": {},
   "outputs": [
    {
     "data": {
      "image/png": "[encoded data removed]",
      "text/plain": [
       "<Figure size 640x480 with 1 Axes>"
      ]
     },
     "metadata": {},
     "output_type": "display_data"
    }
   ],
   "source": [
    "\n",
    "\n",
    "s2=pd.Series(accuracy_list)\n",
    "plt.plot(s2)\n",
    "plt.title(\"accuracy\")\n",
    "plt.show()"
   ]
  },
  {
   "cell_type": "code",
   "execution_count": 122,
   "metadata": {},
   "outputs": [
    {
     "data": {
      "text/plain": [
       "tensor([[0.],\n",
       "        [0.],\n",
       "        [0.],\n",
       "        [1.],\n",
       "        [1.],\n",
       "        [1.]])"
      ]
     },
     "execution_count": 122,
     "metadata": {},
     "output_type": "execute_result"
    }
   ],
   "source": [
    "h2=model(x_train)\n",
    "pred2= h2>=torch.FloatTensor([0.5])\n",
    "pred2.float()"
   ]
  }
 ],
 "metadata": {
  "kernelspec": {
   "display_name": "base",
   "language": "python",
   "name": "python3"
  },
  "language_info": {
   "codemirror_mode": {
    "name": "ipython",
    "version": 3
   },
   "file_extension": ".py",
   "mimetype": "text/x-python",
   "name": "python",
   "nbconvert_exporter": "python",
   "pygments_lexer": "ipython3",
   "version": "3.10.9"
  },
  "orig_nbformat": 4
 },
 "nbformat": 4,
 "nbformat_minor": 2
}
