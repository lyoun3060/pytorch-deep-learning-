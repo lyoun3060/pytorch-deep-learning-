{
 "cells": [
  {
   "cell_type": "markdown",
   "metadata": {},
   "source": [
    "소프트맥스 회귀\n",
    " - 3개이상의 선택지로부터 1개를 선택하는 문제(다중클래스 분류)를 풀기 위한 방법 <br>\n",
    " - 대충 몇번째 선택지의 확률을 출력할거를 선택해서 확인하는 방법이라고 생각하면 됨\n",
    " "
   ]
  },
  {
   "cell_type": "code",
   "execution_count": 59,
   "metadata": {},
   "outputs": [],
   "source": [
    "import torch\n",
    "import torch.nn as nn\n",
    "import torch.nn.functional as F\n",
    "import torch.optim as optim\n"
   ]
  },
  {
   "cell_type": "code",
   "execution_count": 60,
   "metadata": {},
   "outputs": [
    {
     "name": "stdout",
     "output_type": "stream",
     "text": [
      "tensor([0.0900, 0.2447, 0.6652])\n",
      "tensor(1.)\n"
     ]
    }
   ],
   "source": [
    "z= torch.FloatTensor([1,2,3])\n",
    "y_hat = F.softmax(z,dim=0)\n",
    "print(y_hat)\n",
    "#softmax사용시 한행의 것을 다 합해진것의 결과값은 항상 1\n",
    "print(y_hat.sum())\n"
   ]
  },
  {
   "cell_type": "code",
   "execution_count": 61,
   "metadata": {},
   "outputs": [
    {
     "name": "stdout",
     "output_type": "stream",
     "text": [
      "tensor([[0.2645, 0.1639, 0.1855, 0.2585, 0.1277],\n",
      "        [0.2430, 0.1624, 0.2322, 0.1930, 0.1694],\n",
      "        [0.2226, 0.1986, 0.2326, 0.1594, 0.1868]], grad_fn=<SoftmaxBackward0>)\n",
      "tensor(3.0000, grad_fn=<SumBackward0>)\n"
     ]
    }
   ],
   "source": [
    "z=torch.rand(3,5, requires_grad=True) #<- 3행 5열로 랜덤하게 작성\n",
    "y_hat = F.softmax(z, dim=1)\n",
    "print(y_hat)\n",
    "#마찬가지로 한 행의 것을 다 합해진것의 결과값은 항상 1\n",
    "print(y_hat.sum())"
   ]
  },
  {
   "cell_type": "code",
   "execution_count": 62,
   "metadata": {},
   "outputs": [
    {
     "name": "stdout",
     "output_type": "stream",
     "text": [
      "tensor([0, 2, 1])\n",
      "tensor([[1., 0., 0., 0., 0.],\n",
      "        [0., 0., 1., 0., 0.],\n",
      "        [0., 1., 0., 0., 0.]])\n"
     ]
    }
   ],
   "source": [
    "y= torch.randint(5, (3,)).long()\n",
    "print(y)\n",
    "y_one_hot = torch.zeros_like(y_hat)\n",
    "y_one_hot.scatter_(1, y.unsqueeze(1),1) #1의 위치가 어디인지 알려주는 것 / 1행의 1의 위치 (3)에 위치 / 2행의 1의 위치 (2)에 위치\n",
    "print(y_one_hot)"
   ]
  },
  {
   "cell_type": "code",
   "execution_count": 63,
   "metadata": {},
   "outputs": [
    {
     "name": "stdout",
     "output_type": "stream",
     "text": [
      "tensor([[0],\n",
      "        [2],\n",
      "        [1]])\n"
     ]
    }
   ],
   "source": [
    "print(y.unsqueeze(1))"
   ]
  },
  {
   "cell_type": "code",
   "execution_count": 64,
   "metadata": {},
   "outputs": [
    {
     "data": {
      "text/plain": [
       "<torch._C.Generator at 0x1e7e0fb7d30>"
      ]
     },
     "execution_count": 64,
     "metadata": {},
     "output_type": "execute_result"
    }
   ],
   "source": [
    "torch.manual_seed(1)"
   ]
  },
  {
   "cell_type": "code",
   "execution_count": 65,
   "metadata": {},
   "outputs": [
    {
     "name": "stdout",
     "output_type": "stream",
     "text": [
      "torch.Size([8, 4])\n",
      "torch.Size([8])\n"
     ]
    }
   ],
   "source": [
    "x_data=[[1,2,1,1],\n",
    "        [2,1,3,2],\n",
    "        [3,1,3,4],\n",
    "        [4,1,5,5],\n",
    "        [1,7,5,5],\n",
    "        [1,2,5,6],\n",
    "        [1,6,6,6],\n",
    "        [1,7,7,7]]\n",
    "\n",
    "y_data=[2,2,2,1,1,1,0,0]\n",
    "x_train=torch.FloatTensor(x_data)\n",
    "y_train=torch.LongTensor(y_data)\n",
    "print(x_train.shape)\n",
    "print(y_train.shape)"
   ]
  },
  {
   "cell_type": "code",
   "execution_count": 66,
   "metadata": {},
   "outputs": [
    {
     "name": "stdout",
     "output_type": "stream",
     "text": [
      "tensor([[0., 0., 1.],\n",
      "        [0., 0., 1.],\n",
      "        [0., 0., 1.],\n",
      "        [0., 1., 0.],\n",
      "        [0., 1., 0.],\n",
      "        [0., 1., 0.],\n",
      "        [1., 0., 0.],\n",
      "        [1., 0., 0.]])\n"
     ]
    }
   ],
   "source": [
    "y_one_hot = torch.zeros(8,3)\n",
    "y_one_hot.scatter_(1,y_train.unsqueeze(1),1)\n",
    "print(y_one_hot)"
   ]
  },
  {
   "cell_type": "code",
   "execution_count": 70,
   "metadata": {},
   "outputs": [],
   "source": [
    "W=torch.zeros((4,3), requires_grad=True)\n",
    "b=torch.zeros((1,3), requires_grad=True)\n",
    "optimizer=optim.SGD([W, b], lr=0.1)"
   ]
  },
  {
   "cell_type": "code",
   "execution_count": 79,
   "metadata": {},
   "outputs": [
    {
     "name": "stdout",
     "output_type": "stream",
     "text": [
      "Epoch: 0 Cost: 0.013590933755040169\n",
      "Epoch: 100 Cost: 0.013546119444072247\n",
      "Epoch: 200 Cost: 0.01350156869739294\n",
      "Epoch: 300 Cost: 0.013457324355840683\n",
      "Epoch: 400 Cost: 0.013413340784609318\n",
      "Epoch: 500 Cost: 0.013369837775826454\n",
      "Epoch: 600 Cost: 0.013326437212526798\n",
      "Epoch: 700 Cost: 0.013283301144838333\n",
      "Epoch: 800 Cost: 0.013240483589470387\n",
      "Epoch: 900 Cost: 0.013197975233197212\n",
      "Epoch: 1000 Cost: 0.013155785389244556\n",
      "Epoch: 1100 Cost: 0.013113697990775108\n",
      "Epoch: 1200 Cost: 0.0130719980224967\n",
      "Epoch: 1300 Cost: 0.013030502945184708\n",
      "Epoch: 1400 Cost: 0.012989364564418793\n",
      "Epoch: 1500 Cost: 0.012948342598974705\n",
      "Epoch: 1600 Cost: 0.012907678261399269\n",
      "Epoch: 1700 Cost: 0.012867278419435024\n",
      "Epoch: 1800 Cost: 0.012827099300920963\n",
      "Epoch: 1900 Cost: 0.012787171639502048\n",
      "Epoch: 2000 Cost: 0.012747473083436489\n",
      "Epoch: 2100 Cost: 0.012708034366369247\n",
      "Epoch: 2200 Cost: 0.012668789364397526\n",
      "Epoch: 2300 Cost: 0.012629956007003784\n",
      "Epoch: 2400 Cost: 0.012591155245900154\n",
      "Epoch: 2500 Cost: 0.012552649714052677\n",
      "Epoch: 2600 Cost: 0.012514371424913406\n",
      "Epoch: 2700 Cost: 0.01247639860957861\n",
      "Epoch: 2800 Cost: 0.012438634410500526\n",
      "Epoch: 2900 Cost: 0.012401056475937366\n",
      "Epoch: 3000 Cost: 0.01236378401517868\n",
      "Epoch: 3100 Cost: 0.0123266177251935\n",
      "Epoch: 3200 Cost: 0.012289737351238728\n",
      "Epoch: 3300 Cost: 0.012253041379153728\n",
      "Epoch: 3400 Cost: 0.012216589413583279\n",
      "Epoch: 3500 Cost: 0.012180421501398087\n",
      "Epoch: 3600 Cost: 0.012144415639340878\n",
      "Epoch: 3700 Cost: 0.012108462862670422\n",
      "Epoch: 3800 Cost: 0.012072872370481491\n",
      "Epoch: 3900 Cost: 0.012037502601742744\n",
      "Epoch: 4000 Cost: 0.012002347968518734\n",
      "Epoch: 4100 Cost: 0.011967322789132595\n",
      "Epoch: 4200 Cost: 0.011932491324841976\n",
      "Epoch: 4300 Cost: 0.01189794298261404\n",
      "Epoch: 4400 Cost: 0.011863529682159424\n",
      "Epoch: 4500 Cost: 0.011829450726509094\n",
      "Epoch: 4600 Cost: 0.011795430444180965\n",
      "Epoch: 4700 Cost: 0.011761624366044998\n",
      "Epoch: 4800 Cost: 0.011727934703230858\n",
      "Epoch: 4900 Cost: 0.011694583110511303\n",
      "Epoch: 5000 Cost: 0.011661375872790813\n",
      "Epoch: 5100 Cost: 0.011628386564552784\n",
      "Epoch: 5200 Cost: 0.011595519259572029\n",
      "Epoch: 5300 Cost: 0.011562847532331944\n",
      "Epoch: 5400 Cost: 0.011530314572155476\n",
      "Epoch: 5500 Cost: 0.011497989296913147\n",
      "Epoch: 5600 Cost: 0.011465977877378464\n",
      "Epoch: 5700 Cost: 0.011434064246714115\n",
      "Epoch: 5800 Cost: 0.011402249336242676\n",
      "Epoch: 5900 Cost: 0.01137063093483448\n",
      "Epoch: 6000 Cost: 0.011339263059198856\n",
      "Epoch: 6100 Cost: 0.01130804605782032\n",
      "Epoch: 6200 Cost: 0.011276989243924618\n",
      "Epoch: 6300 Cost: 0.011246059089899063\n",
      "Epoch: 6400 Cost: 0.011215349659323692\n",
      "Epoch: 6500 Cost: 0.01118473894894123\n",
      "Epoch: 6600 Cost: 0.011154365725815296\n",
      "Epoch: 6700 Cost: 0.011124092154204845\n",
      "Epoch: 6800 Cost: 0.011094032786786556\n",
      "Epoch: 6900 Cost: 0.011064117774367332\n",
      "Epoch: 7000 Cost: 0.011034363880753517\n",
      "Epoch: 7100 Cost: 0.011004796251654625\n",
      "Epoch: 7200 Cost: 0.010975342243909836\n",
      "Epoch: 7300 Cost: 0.0109460623934865\n",
      "Epoch: 7400 Cost: 0.010916944593191147\n",
      "Epoch: 7500 Cost: 0.0108879329636693\n",
      "Epoch: 7600 Cost: 0.010859174653887749\n",
      "Epoch: 7700 Cost: 0.010830525308847427\n",
      "Epoch: 7800 Cost: 0.0108019495382905\n",
      "Epoch: 7900 Cost: 0.010773618705570698\n",
      "Epoch: 8000 Cost: 0.010745416395366192\n",
      "Epoch: 8100 Cost: 0.010717370547354221\n",
      "Epoch: 8200 Cost: 0.010689354501664639\n",
      "Epoch: 8300 Cost: 0.010661635547876358\n",
      "Epoch: 8400 Cost: 0.01063401810824871\n",
      "Epoch: 8500 Cost: 0.010606558062136173\n",
      "Epoch: 8600 Cost: 0.010579175315797329\n",
      "Epoch: 8700 Cost: 0.010551945306360722\n",
      "Epoch: 8800 Cost: 0.010524810291826725\n",
      "Epoch: 8900 Cost: 0.010497917421162128\n",
      "Epoch: 9000 Cost: 0.010471176356077194\n",
      "Epoch: 9100 Cost: 0.010444549843668938\n",
      "Epoch: 9200 Cost: 0.010417978279292583\n",
      "Epoch: 9300 Cost: 0.010391583666205406\n",
      "Epoch: 9400 Cost: 0.010365302674472332\n",
      "Epoch: 9500 Cost: 0.010339134372770786\n",
      "Epoch: 9600 Cost: 0.010313165374100208\n",
      "Epoch: 9700 Cost: 0.010287342593073845\n",
      "Epoch: 9800 Cost: 0.010261665098369122\n",
      "Epoch: 9900 Cost: 0.010236025787889957\n",
      "Epoch: 10000 Cost: 0.01021052896976471\n"
     ]
    }
   ],
   "source": [
    "n_epochs=10001\n",
    "for epoch in range(n_epochs):\n",
    "    y_hat=F.softmax(x_train.matmul(W)+b, dim=1)\n",
    "    cost=(y_one_hot * -torch.log(y_hat)).sum(dim=1).mean()\n",
    "\n",
    "    optimizer.zero_grad()\n",
    "    cost.backward()\n",
    "    optimizer.step()\n",
    "\n",
    "    if epoch%100==0:\n",
    "        print('Epoch:', epoch, 'Cost:', cost.item())"
   ]
  },
  {
   "cell_type": "code",
   "execution_count": 80,
   "metadata": {},
   "outputs": [],
   "source": [
    "model=nn.Linear(4,3)\n",
    "optimizer = optim.SGD(model.parameters(), lr=0.1)\n",
    "n_epochs=10000"
   ]
  },
  {
   "cell_type": "code",
   "execution_count": 81,
   "metadata": {},
   "outputs": [
    {
     "name": "stdout",
     "output_type": "stream",
     "text": [
      "Epoch:  0 Cost:  1.6167852878570557\n",
      "Epoch:  100 Cost:  0.6588909029960632\n",
      "Epoch:  200 Cost:  0.5734433531761169\n",
      "Epoch:  300 Cost:  0.5181514024734497\n",
      "Epoch:  400 Cost:  0.47326549887657166\n",
      "Epoch:  500 Cost:  0.43351614475250244\n",
      "Epoch:  600 Cost:  0.3965628445148468\n",
      "Epoch:  700 Cost:  0.36091411113739014\n",
      "Epoch:  800 Cost:  0.3253922164440155\n",
      "Epoch:  900 Cost:  0.28917866945266724\n",
      "Epoch:  1000 Cost:  0.25414782762527466\n",
      "Epoch:  1100 Cost:  0.23497340083122253\n",
      "Epoch:  1200 Cost:  0.2234925776720047\n",
      "Epoch:  1300 Cost:  0.21305306255817413\n",
      "Epoch:  1400 Cost:  0.2035093903541565\n",
      "Epoch:  1500 Cost:  0.1947512924671173\n",
      "Epoch:  1600 Cost:  0.18668682873249054\n",
      "Epoch:  1700 Cost:  0.17923787236213684\n",
      "Epoch:  1800 Cost:  0.17233796417713165\n",
      "Epoch:  1900 Cost:  0.1659296303987503\n",
      "Epoch:  2000 Cost:  0.15996326506137848\n",
      "Epoch:  2100 Cost:  0.15439580380916595\n",
      "Epoch:  2200 Cost:  0.1491893082857132\n",
      "Epoch:  2300 Cost:  0.14431050419807434\n",
      "Epoch:  2400 Cost:  0.13973000645637512\n",
      "Epoch:  2500 Cost:  0.1354219615459442\n",
      "Epoch:  2600 Cost:  0.1313631385564804\n",
      "Epoch:  2700 Cost:  0.12753307819366455\n",
      "Epoch:  2800 Cost:  0.12391337752342224\n",
      "Epoch:  2900 Cost:  0.12048749625682831\n",
      "Epoch:  3000 Cost:  0.11724033951759338\n",
      "Epoch:  3100 Cost:  0.1141587644815445\n",
      "Epoch:  3200 Cost:  0.11123068630695343\n",
      "Epoch:  3300 Cost:  0.10844500362873077\n",
      "Epoch:  3400 Cost:  0.10579178482294083\n",
      "Epoch:  3500 Cost:  0.10326194763183594\n",
      "Epoch:  3600 Cost:  0.10084732621908188\n",
      "Epoch:  3700 Cost:  0.09854014217853546\n",
      "Epoch:  3800 Cost:  0.09633363038301468\n",
      "Epoch:  3900 Cost:  0.0942215695977211\n",
      "Epoch:  4000 Cost:  0.09219785034656525\n",
      "Epoch:  4100 Cost:  0.09025726467370987\n",
      "Epoch:  4200 Cost:  0.08839493989944458\n",
      "Epoch:  4300 Cost:  0.0866062343120575\n",
      "Epoch:  4400 Cost:  0.08488692343235016\n",
      "Epoch:  4500 Cost:  0.08323303610086441\n",
      "Epoch:  4600 Cost:  0.0816410481929779\n",
      "Epoch:  4700 Cost:  0.08010754734277725\n",
      "Epoch:  4800 Cost:  0.07862940430641174\n",
      "Epoch:  4900 Cost:  0.07720376551151276\n",
      "Epoch:  5000 Cost:  0.07582787424325943\n",
      "Epoch:  5100 Cost:  0.07449925690889359\n",
      "Epoch:  5200 Cost:  0.07321552187204361\n",
      "Epoch:  5300 Cost:  0.07197439670562744\n",
      "Epoch:  5400 Cost:  0.07077391445636749\n",
      "Epoch:  5500 Cost:  0.06961209326982498\n",
      "Epoch:  5600 Cost:  0.0684870034456253\n",
      "Epoch:  5700 Cost:  0.06739715486764908\n",
      "Epoch:  5800 Cost:  0.0663408637046814\n",
      "Epoch:  5900 Cost:  0.06531652808189392\n",
      "Epoch:  6000 Cost:  0.06432294100522995\n",
      "Epoch:  6100 Cost:  0.06335853040218353\n",
      "Epoch:  6200 Cost:  0.06242221221327782\n",
      "Epoch:  6300 Cost:  0.06151261553168297\n",
      "Epoch:  6400 Cost:  0.06062868610024452\n",
      "Epoch:  6500 Cost:  0.05976957827806473\n",
      "Epoch:  6600 Cost:  0.05893389880657196\n",
      "Epoch:  6700 Cost:  0.0581209696829319\n",
      "Epoch:  6800 Cost:  0.05732985958456993\n",
      "Epoch:  6900 Cost:  0.05655961483716965\n",
      "Epoch:  7000 Cost:  0.05580946058034897\n",
      "Epoch:  7100 Cost:  0.055078767240047455\n",
      "Epoch:  7200 Cost:  0.054366666823625565\n",
      "Epoch:  7300 Cost:  0.05367235094308853\n",
      "Epoch:  7400 Cost:  0.052995383739471436\n",
      "Epoch:  7500 Cost:  0.0523349829018116\n",
      "Epoch:  7600 Cost:  0.051690615713596344\n",
      "Epoch:  7700 Cost:  0.051061760634183884\n",
      "Epoch:  7800 Cost:  0.05044783651828766\n",
      "Epoch:  7900 Cost:  0.04984818026423454\n",
      "Epoch:  8000 Cost:  0.04926246404647827\n",
      "Epoch:  8100 Cost:  0.04869018495082855\n",
      "Epoch:  8200 Cost:  0.04813094809651375\n",
      "Epoch:  8300 Cost:  0.0475841760635376\n",
      "Epoch:  8400 Cost:  0.047049522399902344\n",
      "Epoch:  8500 Cost:  0.04652655869722366\n",
      "Epoch:  8600 Cost:  0.04601501673460007\n",
      "Epoch:  8700 Cost:  0.04551445692777634\n",
      "Epoch:  8800 Cost:  0.04502444714307785\n",
      "Epoch:  8900 Cost:  0.044544775038957596\n",
      "Epoch:  9000 Cost:  0.04407520964741707\n",
      "Epoch:  9100 Cost:  0.04361520707607269\n",
      "Epoch:  9200 Cost:  0.04316456988453865\n",
      "Epoch:  9300 Cost:  0.042723141610622406\n",
      "Epoch:  9400 Cost:  0.042290519922971725\n",
      "Epoch:  9500 Cost:  0.04186645895242691\n",
      "Epoch:  9600 Cost:  0.04145070165395737\n",
      "Epoch:  9700 Cost:  0.04104293882846832\n",
      "Epoch:  9800 Cost:  0.040643177926540375\n",
      "Epoch:  9900 Cost:  0.040250979363918304\n"
     ]
    }
   ],
   "source": [
    "for epoch in range(n_epochs):\n",
    "    y_hat=model(x_train)\n",
    "    cost = F.cross_entropy(y_hat, y_train)\n",
    "\n",
    "    optimizer.zero_grad()\n",
    "    cost.backward()\n",
    "    optimizer.step()\n",
    "\n",
    "    if epoch % 100 == 0:\n",
    "        print('Epoch: ', epoch, 'Cost: ', cost.item())"
   ]
  },
  {
   "cell_type": "code",
   "execution_count": 83,
   "metadata": {},
   "outputs": [
    {
     "name": "stdout",
     "output_type": "stream",
     "text": [
      "tensor([[-11.4186,  -0.1089,  11.8237],\n",
      "        [ -4.3004,   0.4548,   4.3716],\n",
      "        [-18.3864,   8.3331,  11.4630],\n",
      "        [-12.6069,   8.7536,   5.5109],\n",
      "        [  0.9640,   3.5058,  -2.2738],\n",
      "        [  4.2153,   7.4299,  -9.0252],\n",
      "        [  7.0719,   4.7319,  -9.1731],\n",
      "        [ 10.5022,   5.6714, -13.0725]], grad_fn=<AddmmBackward0>)\n"
     ]
    }
   ],
   "source": [
    "prodiction = model(x_train)\n",
    "print(prodiction)"
   ]
  },
  {
   "cell_type": "code",
   "execution_count": 85,
   "metadata": {},
   "outputs": [],
   "source": [
    "class SoftmaxClassModel(nn.Module):\n",
    "    def __init__(self):\n",
    "        super().__init__()\n",
    "        self.linear=nn.Linear(4,3)\n",
    "\n",
    "    def forward(self, x):\n",
    "        return self.linear(x)"
   ]
  },
  {
   "cell_type": "code",
   "execution_count": 87,
   "metadata": {},
   "outputs": [],
   "source": [
    "model=SoftmaxClassModel()\n",
    "optimizer=optim.SGD(model.parameters(), lr=0.1)\n",
    "n_epochs = 10000"
   ]
  },
  {
   "cell_type": "code",
   "execution_count": 89,
   "metadata": {},
   "outputs": [
    {
     "name": "stdout",
     "output_type": "stream",
     "text": [
      "Epoch:  0 Cost:  0.03986532986164093\n",
      "Epoch:  100 Cost:  0.03948763385415077\n",
      "Epoch:  200 Cost:  0.03911696374416351\n",
      "Epoch:  300 Cost:  0.03875299543142319\n",
      "Epoch:  400 Cost:  0.03839582949876785\n",
      "Epoch:  500 Cost:  0.03804491087794304\n",
      "Epoch:  600 Cost:  0.03770039230585098\n",
      "Epoch:  700 Cost:  0.03736207261681557\n",
      "Epoch:  800 Cost:  0.03702965006232262\n",
      "Epoch:  900 Cost:  0.03670310601592064\n",
      "Epoch:  1000 Cost:  0.036382146179676056\n",
      "Epoch:  1100 Cost:  0.036066632717847824\n",
      "Epoch:  1200 Cost:  0.03575662150979042\n",
      "Epoch:  1300 Cost:  0.03545163944363594\n",
      "Epoch:  1400 Cost:  0.03515198454260826\n",
      "Epoch:  1500 Cost:  0.03485720232129097\n",
      "Epoch:  1600 Cost:  0.034567270427942276\n",
      "Epoch:  1700 Cost:  0.034282136708498\n",
      "Epoch:  1800 Cost:  0.034001536667346954\n",
      "Epoch:  1900 Cost:  0.0337255522608757\n",
      "Epoch:  2000 Cost:  0.033453915268182755\n",
      "Epoch:  2100 Cost:  0.033186543732881546\n",
      "Epoch:  2200 Cost:  0.03292344510555267\n",
      "Epoch:  2300 Cost:  0.03266439959406853\n",
      "Epoch:  2400 Cost:  0.03240932151675224\n",
      "Epoch:  2500 Cost:  0.03215823695063591\n",
      "Epoch:  2600 Cost:  0.03191099688410759\n",
      "Epoch:  2700 Cost:  0.031667403876781464\n",
      "Epoch:  2800 Cost:  0.031427446752786636\n",
      "Epoch:  2900 Cost:  0.031191179528832436\n",
      "Epoch:  3000 Cost:  0.03095841221511364\n",
      "Epoch:  3100 Cost:  0.030728986486792564\n",
      "Epoch:  3200 Cost:  0.030502954497933388\n",
      "Epoch:  3300 Cost:  0.030280159786343575\n",
      "Epoch:  3400 Cost:  0.030060594901442528\n",
      "Epoch:  3500 Cost:  0.029844172298908234\n",
      "Epoch:  3600 Cost:  0.029630813747644424\n",
      "Epoch:  3700 Cost:  0.02942042611539364\n",
      "Epoch:  3800 Cost:  0.029213042929768562\n",
      "Epoch:  3900 Cost:  0.029008440673351288\n",
      "Epoch:  4000 Cost:  0.028806746006011963\n",
      "Epoch:  4100 Cost:  0.028607752174139023\n",
      "Epoch:  4200 Cost:  0.028411565348505974\n",
      "Epoch:  4300 Cost:  0.02821797877550125\n",
      "Epoch:  4400 Cost:  0.02802695706486702\n",
      "Epoch:  4500 Cost:  0.027838554233312607\n",
      "Epoch:  4600 Cost:  0.027652595192193985\n",
      "Epoch:  4700 Cost:  0.027469094842672348\n",
      "Epoch:  4800 Cost:  0.027287999168038368\n",
      "Epoch:  4900 Cost:  0.02710924670100212\n",
      "Epoch:  5000 Cost:  0.026932770386338234\n",
      "Epoch:  5100 Cost:  0.026758650317788124\n",
      "Epoch:  5200 Cost:  0.026586612686514854\n",
      "Epoch:  5300 Cost:  0.02641686424612999\n",
      "Epoch:  5400 Cost:  0.026249218732118607\n",
      "Epoch:  5500 Cost:  0.026083746924996376\n",
      "Epoch:  5600 Cost:  0.025920238345861435\n",
      "Epoch:  5700 Cost:  0.025758765637874603\n",
      "Epoch:  5800 Cost:  0.025599369779229164\n",
      "Epoch:  5900 Cost:  0.02544180117547512\n",
      "Epoch:  6000 Cost:  0.02528626099228859\n",
      "Epoch:  6100 Cost:  0.025132514536380768\n",
      "Epoch:  6200 Cost:  0.024980690330266953\n",
      "Epoch:  6300 Cost:  0.024830589070916176\n",
      "Epoch:  6400 Cost:  0.02468232810497284\n",
      "Epoch:  6500 Cost:  0.024535737931728363\n",
      "Epoch:  6600 Cost:  0.02439098060131073\n",
      "Epoch:  6700 Cost:  0.02424778789281845\n",
      "Epoch:  6800 Cost:  0.024106308817863464\n",
      "Epoch:  6900 Cost:  0.023966483771800995\n",
      "Epoch:  7000 Cost:  0.023828204721212387\n",
      "Epoch:  7100 Cost:  0.023691564798355103\n",
      "Epoch:  7200 Cost:  0.023556403815746307\n",
      "Epoch:  7300 Cost:  0.023422803729772568\n",
      "Epoch:  7400 Cost:  0.02329072169959545\n",
      "Epoch:  7500 Cost:  0.02316013164818287\n",
      "Epoch:  7600 Cost:  0.023030897602438927\n",
      "Epoch:  7700 Cost:  0.022903181612491608\n",
      "Epoch:  7800 Cost:  0.022776855155825615\n",
      "Epoch:  7900 Cost:  0.02265188843011856\n",
      "Epoch:  8000 Cost:  0.022528279572725296\n",
      "Epoch:  8100 Cost:  0.022405926138162613\n",
      "Epoch:  8200 Cost:  0.022284988313913345\n",
      "Epoch:  8300 Cost:  0.02216528356075287\n",
      "Epoch:  8400 Cost:  0.022046875208616257\n",
      "Epoch:  8500 Cost:  0.021929744631052017\n",
      "Epoch:  8600 Cost:  0.021813830360770226\n",
      "Epoch:  8700 Cost:  0.021699046716094017\n",
      "Epoch:  8800 Cost:  0.02158554084599018\n",
      "Epoch:  8900 Cost:  0.021473148837685585\n",
      "Epoch:  9000 Cost:  0.021361954510211945\n",
      "Epoch:  9100 Cost:  0.02125190570950508\n",
      "Epoch:  9200 Cost:  0.021143019199371338\n",
      "Epoch:  9300 Cost:  0.021035125479102135\n",
      "Epoch:  9400 Cost:  0.020928408950567245\n",
      "Epoch:  9500 Cost:  0.020822741091251373\n",
      "Epoch:  9600 Cost:  0.020718123763799667\n",
      "Epoch:  9700 Cost:  0.02061457373201847\n",
      "Epoch:  9800 Cost:  0.02051207423210144\n",
      "Epoch:  9900 Cost:  0.020410526543855667\n"
     ]
    }
   ],
   "source": [
    "for epoch in range(n_epochs):\n",
    "    y_hat=model(x_train)\n",
    "    cost = F.cross_entropy(y_hat, y_train)\n",
    "\n",
    "    optimizer.zero_grad()\n",
    "    cost.backward()\n",
    "    optimizer.step()\n",
    "\n",
    "    if epoch % 100 == 0:\n",
    "        print('Epoch: ', epoch, 'Cost: ', cost.item())"
   ]
  },
  {
   "cell_type": "code",
   "execution_count": 92,
   "metadata": {},
   "outputs": [
    {
     "name": "stdout",
     "output_type": "stream",
     "text": [
      "tensor([[-13.8228,  -0.0551,  14.3841],\n",
      "        [ -3.9516,   0.7393,   5.3643],\n",
      "        [-22.6757,   9.6895,  13.5155],\n",
      "        [-14.5503,  10.3340,   6.3924],\n",
      "        [  0.8633,   4.0958,  -2.4126],\n",
      "        [  4.5460,   8.4308, -11.1844],\n",
      "        [  8.4633,   5.4709, -10.8792],\n",
      "        [ 12.5713,   6.5461, -15.5526]], grad_fn=<AddmmBackward0>)\n"
     ]
    }
   ],
   "source": [
    "prediction = model(x_train)\n",
    "print(prediction)"
   ]
  },
  {
   "cell_type": "code",
   "execution_count": null,
   "metadata": {},
   "outputs": [],
   "source": []
  }
 ],
 "metadata": {
  "kernelspec": {
   "display_name": "base",
   "language": "python",
   "name": "python3"
  },
  "language_info": {
   "codemirror_mode": {
    "name": "ipython",
    "version": 3
   },
   "file_extension": ".py",
   "mimetype": "text/x-python",
   "name": "python",
   "nbconvert_exporter": "python",
   "pygments_lexer": "ipython3",
   "version": "3.11.3"
  },
  "orig_nbformat": 4
 },
 "nbformat": 4,
 "nbformat_minor": 2
}
