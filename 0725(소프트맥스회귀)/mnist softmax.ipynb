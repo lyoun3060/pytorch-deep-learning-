{
 "cells": [
  {
   "cell_type": "code",
   "execution_count": 1,
   "metadata": {},
   "outputs": [],
   "source": [
    "import torch\n",
    "import torchvision.datasets as dsets\n",
    "import torchvision.transforms as transforms\n",
    "from torch.utils.data import DataLoader\n",
    "import torch.nn as nn\n",
    "import torch.nn.functional as F\n",
    "import torch.optim as optim\n",
    "import matplotlib.pyplot as plt\n",
    "import random"
   ]
  },
  {
   "cell_type": "code",
   "execution_count": 2,
   "metadata": {},
   "outputs": [
    {
     "name": "stdout",
     "output_type": "stream",
     "text": [
      "다음기기 사용:  cpu\n"
     ]
    }
   ],
   "source": [
    "USE_CUDA = torch.cuda.is_available()\n",
    "device = torch.device('cuda' if USE_CUDA else 'cpu')\n",
    "print(\"다음기기 사용: \", device)"
   ]
  },
  {
   "cell_type": "code",
   "execution_count": 3,
   "metadata": {},
   "outputs": [],
   "source": [
    "random.seed(777)\n",
    "torch.manual_seed(777)\n",
    "if device == 'cuda':\n",
    "    torch.cuda.manual_seed_all(777)"
   ]
  },
  {
   "cell_type": "code",
   "execution_count": 4,
   "metadata": {},
   "outputs": [],
   "source": [
    "training_epochs = 15\n",
    "batch_size = 100"
   ]
  },
  {
   "cell_type": "code",
   "execution_count": 5,
   "metadata": {},
   "outputs": [],
   "source": [
    "mnist_train = dsets.MNIST(root = 'MNIST_data/', \n",
    "                                                   train=True,\n",
    "                                                   transform= transforms.ToTensor(),\n",
    "                                                   download= True\n",
    "                                                   )\n",
    "mnist_test = dsets.MNIST(root='MNIST_data/',\n",
    "                                                 train=False,\n",
    "                                                 transform=transforms.ToTensor(),\n",
    "                                                 download=True)"
   ]
  },
  {
   "cell_type": "code",
   "execution_count": 6,
   "metadata": {},
   "outputs": [],
   "source": [
    "data_loader = DataLoader(dataset=mnist_train,\n",
    "                         batch_size=batch_size,\n",
    "                         shuffle=True,\n",
    "                         drop_last=True)"
   ]
  },
  {
   "cell_type": "code",
   "execution_count": 7,
   "metadata": {},
   "outputs": [],
   "source": [
    "linear = nn.Linear(784, 10, bias=True).to(device)"
   ]
  },
  {
   "cell_type": "code",
   "execution_count": 8,
   "metadata": {},
   "outputs": [],
   "source": [
    "crit = nn.CrossEntropyLoss().to(device)\n",
    "optimizer = optim.SGD(linear.parameters(), lr=0.1)"
   ]
  },
  {
   "cell_type": "code",
   "execution_count": 9,
   "metadata": {},
   "outputs": [
    {
     "name": "stdout",
     "output_type": "stream",
     "text": [
      "Epoch:  0 Cost:  0.5351506471633911\n",
      "Epoch:  1 Cost:  0.3595777451992035\n",
      "Epoch:  2 Cost:  0.33126428723335266\n",
      "Epoch:  3 Cost:  0.31640470027923584\n",
      "Epoch:  4 Cost:  0.30710697174072266\n",
      "Epoch:  5 Cost:  0.30045655369758606\n",
      "Epoch:  6 Cost:  0.29493340849876404\n",
      "Epoch:  7 Cost:  0.29095619916915894\n",
      "Epoch:  8 Cost:  0.2870740592479706\n",
      "Epoch:  9 Cost:  0.2845156192779541\n",
      "Epoch:  10 Cost:  0.2819140553474426\n",
      "Epoch:  11 Cost:  0.27952688932418823\n",
      "Epoch:  12 Cost:  0.2776365876197815\n",
      "Epoch:  13 Cost:  0.2758747935295105\n",
      "Epoch:  14 Cost:  0.2744227945804596\n",
      "Learning finished\n"
     ]
    }
   ],
   "source": [
    "for epoch in range(training_epochs):\n",
    "    avg_cost = 0\n",
    "    total_batch = len(data_loader)\n",
    "\n",
    "    for X, Y in data_loader:\n",
    "        X = X.view(-1, 28*28).to(device)\n",
    "        Y = Y.to(device)\n",
    "\n",
    "        optimizer.zero_grad()\n",
    "        y_hat = linear(X)\n",
    "        cost = crit(y_hat, Y)\n",
    "\n",
    "        cost.backward()\n",
    "        optimizer.step()\n",
    "        avg_cost += cost/total_batch\n",
    "\n",
    "    print('Epoch: ', epoch, 'Cost: ', avg_cost.item())\n",
    "print(\"Learning finished\")\n"
   ]
  },
  {
   "cell_type": "code",
   "execution_count": 20,
   "metadata": {},
   "outputs": [
    {
     "name": "stdout",
     "output_type": "stream",
     "text": [
      "Label: tensor([7, 2, 1,  ..., 4, 5, 6])\n",
      "tensor([[   82.9110, -2196.7009, -1338.6730,   441.2434,  -163.4178,    70.4094,\n",
      "         -2211.9355,  2725.9172,   326.9221,  2269.3459]])\n",
      "Prediction:  7\n"
     ]
    },
    {
     "name": "stderr",
     "output_type": "stream",
     "text": [
      "c:\\Users\\omega\\anaconda3\\Lib\\site-packages\\torchvision\\datasets\\mnist.py:80: UserWarning: test_data has been renamed data\n",
      "  warnings.warn(\"test_data has been renamed data\")\n",
      "c:\\Users\\omega\\anaconda3\\Lib\\site-packages\\torchvision\\datasets\\mnist.py:70: UserWarning: test_labels has been renamed targets\n",
      "  warnings.warn(\"test_labels has been renamed targets\")\n"
     ]
    }
   ],
   "source": [
    "#여기서부터는 훈련이 다 끝났기때문에 gradient계산을 하지말라고 하는것\n",
    "with torch.no_grad():\n",
    "    x_test=mnist_test.test_data.view(-1, 28*28).float().to(device)\n",
    "    y_test=mnist_test.test_labels.to(device)\n",
    "\n",
    "    prediction=linear(x_test)\n",
    "    correct_prediction=torch.argmax(prediction,1) == y_test\n",
    "    accuracy=correct_prediction.float().mean() #정확도\n",
    "\n",
    "    # print(torch.argmax(prediction,1))\n",
    "    # print(y_test)    \n",
    "    # print(correct_prediction)\n",
    "    # print('Accuracy:', accuracy)\n",
    "\n",
    "\n",
    "    r=random.randint(0, len(mnist_test)-1)\n",
    "    x_single_data = mnist_test.test_data[r:r+1].view(-1, 28*28).float().to(device)\n",
    "    y_single_data = mnist_test.test_labels.to(device)\n",
    "    print('Label:',y_single_data)\n",
    "    single_prediction=linear(x_single_data)\n",
    "    print(single_prediction)\n",
    "    print('Prediction: ', torch.argmax(single_prediction,1).item())\n",
    "    \n",
    "\n"
   ]
  }
 ],
 "metadata": {
  "kernelspec": {
   "display_name": "base",
   "language": "python",
   "name": "python3"
  },
  "language_info": {
   "codemirror_mode": {
    "name": "ipython",
    "version": 3
   },
   "file_extension": ".py",
   "mimetype": "text/x-python",
   "name": "python",
   "nbconvert_exporter": "python",
   "pygments_lexer": "ipython3",
   "version": "3.11.3"
  },
  "orig_nbformat": 4
 },
 "nbformat": 4,
 "nbformat_minor": 2
}
